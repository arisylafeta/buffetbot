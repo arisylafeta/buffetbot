{
 "cells": [
  {
   "cell_type": "markdown",
   "metadata": {},
   "source": [
    "### Config"
   ]
  },
  {
   "cell_type": "code",
   "execution_count": 1,
   "metadata": {},
   "outputs": [],
   "source": [
    "from dotenv import load_dotenv\n",
    "import os\n",
    "\n",
    "load_dotenv()\n",
    "\n",
    "os.environ['GROQ_API_KEY'] = os.getenv('GROQ_API_KEY')\n",
    "os.environ['LANGCHAIN_API_KEY'] = os.getenv('LANGCHAIN_API_KEY')\n",
    "os.environ[\"LANGCHAIN_TRACING_V2\"] = \"true\"\n",
    "os.environ['LANGCHAIN_PROJECT'] = \"BuffetBot\"\n",
    "os.environ['GOOGLE_API_KEY'] = os.getenv('GOOGLE_API_KEY')\n",
    "os.environ[\"OPENAI_API_KEY\"] = os.getenv(\"OPENAI_API_KEY\")"
   ]
  },
  {
   "cell_type": "markdown",
   "metadata": {},
   "source": [
    "### Knowledge Base (Don't touch)"
   ]
  },
  {
   "cell_type": "code",
   "execution_count": 2,
   "metadata": {},
   "outputs": [
    {
     "ename": "NameError",
     "evalue": "name 'PyPDFLoader' is not defined",
     "output_type": "error",
     "traceback": [
      "\u001b[0;31m---------------------------------------------------------------------------\u001b[0m",
      "\u001b[0;31mNameError\u001b[0m                                 Traceback (most recent call last)",
      "Cell \u001b[0;32mIn[2], line 16\u001b[0m\n\u001b[1;32m     13\u001b[0m documents \u001b[38;5;241m=\u001b[39m []\n\u001b[1;32m     15\u001b[0m \u001b[38;5;28;01mfor\u001b[39;00m pdf_file \u001b[38;5;129;01min\u001b[39;00m pdf_files:\n\u001b[0;32m---> 16\u001b[0m     loader \u001b[38;5;241m=\u001b[39m \u001b[43mPyPDFLoader\u001b[49m(pdf_file)\n\u001b[1;32m     17\u001b[0m     documents\u001b[38;5;241m.\u001b[39mextend(loader\u001b[38;5;241m.\u001b[39mload())\n",
      "\u001b[0;31mNameError\u001b[0m: name 'PyPDFLoader' is not defined"
     ]
    }
   ],
   "source": [
    "import os\n",
    "import numpy as np\n",
    "from langchain.embeddings import OllamaEmbeddings \n",
    "from langchain.text_splitter import RecursiveCharacterTextSplitter\n",
    "from langchain_openai import OpenAIEmbeddings\n",
    "import faiss\n",
    "from langchain_community.docstore.in_memory import InMemoryDocstore\n",
    "from langchain_community.vectorstores import FAISS\n",
    "\n",
    "\n",
    "\n",
    "pdf_files = [\"charlie_munger.pdf\", \"intelligent_investor.pdf\", \"buffet_essays.pdf\"]\n",
    "\n",
    "documents = []\n",
    "\n",
    "for pdf_file in pdf_files:\n",
    "    loader = PyPDFLoader(pdf_file)\n",
    "    documents.extend(loader.load())\n"
   ]
  },
  {
   "cell_type": "code",
   "execution_count": 3,
   "metadata": {},
   "outputs": [
    {
     "ename": "NameError",
     "evalue": "name 'FAISS' is not defined",
     "output_type": "error",
     "traceback": [
      "\u001b[0;31m---------------------------------------------------------------------------\u001b[0m",
      "\u001b[0;31mNameError\u001b[0m                                 Traceback (most recent call last)",
      "Cell \u001b[0;32mIn[3], line 7\u001b[0m\n\u001b[1;32m      3\u001b[0m \u001b[38;5;28;01mfrom\u001b[39;00m \u001b[38;5;21;01mlangchain_openai\u001b[39;00m \u001b[38;5;28;01mimport\u001b[39;00m OpenAIEmbeddings\n\u001b[1;32m      5\u001b[0m index \u001b[38;5;241m=\u001b[39m faiss\u001b[38;5;241m.\u001b[39mIndexFlatL2(\u001b[38;5;28mlen\u001b[39m(OpenAIEmbeddings()\u001b[38;5;241m.\u001b[39membed_query(\u001b[38;5;124m\"\u001b[39m\u001b[38;5;124mhello world\u001b[39m\u001b[38;5;124m\"\u001b[39m)))\n\u001b[0;32m----> 7\u001b[0m vector_store \u001b[38;5;241m=\u001b[39m \u001b[43mFAISS\u001b[49m\u001b[38;5;241m.\u001b[39mload_local(\n\u001b[1;32m      8\u001b[0m     \u001b[38;5;124m\"\u001b[39m\u001b[38;5;124mknowledge_base\u001b[39m\u001b[38;5;124m\"\u001b[39m, embeddings, allow_dangerous_deserialization\u001b[38;5;241m=\u001b[39m\u001b[38;5;28;01mTrue\u001b[39;00m\n\u001b[1;32m      9\u001b[0m )\n\u001b[1;32m     12\u001b[0m uuids \u001b[38;5;241m=\u001b[39m [\u001b[38;5;28mstr\u001b[39m(uuid4()) \u001b[38;5;28;01mfor\u001b[39;00m _ \u001b[38;5;129;01min\u001b[39;00m \u001b[38;5;28mrange\u001b[39m(\u001b[38;5;28mlen\u001b[39m(documents))]\n\u001b[1;32m     13\u001b[0m vector_store\u001b[38;5;241m.\u001b[39madd_documents(documents\u001b[38;5;241m=\u001b[39mdocuments, \u001b[38;5;28mid\u001b[39m\u001b[38;5;241m=\u001b[39muuids)\n",
      "\u001b[0;31mNameError\u001b[0m: name 'FAISS' is not defined"
     ]
    }
   ],
   "source": [
    "from uuid import uuid4\n",
    "\n",
    "index = faiss.IndexFlatL2(len(OpenAIEmbeddings().embed_query(\"hello world\")))\n",
    "\n",
    "vector_store = FAISS.load_local(\n",
    "    \"knowledge_base\", embeddings, allow_dangerous_deserialization=True\n",
    ")\n",
    "\n",
    "\n",
    "uuids = [str(uuid4()) for _ in range(len(documents))]\n",
    "vector_store.add_documents(documents=documents, id=uuids)\n"
   ]
  },
  {
   "cell_type": "code",
   "execution_count": 59,
   "metadata": {},
   "outputs": [],
   "source": [
    "vector_store.save_local(\"knowledge_base\")"
   ]
  },
  {
   "cell_type": "markdown",
   "metadata": {},
   "source": [
    "### Playground"
   ]
  },
  {
   "cell_type": "code",
   "execution_count": 4,
   "metadata": {},
   "outputs": [],
   "source": [
    "import os\n",
    "import numpy as np\n",
    "from langchain.embeddings import OllamaEmbeddings \n",
    "from langchain.text_splitter import RecursiveCharacterTextSplitter\n",
    "from langchain_openai import OpenAIEmbeddings\n",
    "import faiss\n",
    "from langchain_community.docstore.in_memory import InMemoryDocstore\n",
    "from langchain_community.vectorstores import FAISS"
   ]
  },
  {
   "cell_type": "code",
   "execution_count": 6,
   "metadata": {},
   "outputs": [],
   "source": [
    "os.environ['OPENAI_API_KEY'] = os.getenv('OPENAI_API_KEY') ### PLACE YOUR OPENAI API KEY HERE\n",
    "embeddings = OpenAIEmbeddings()"
   ]
  },
  {
   "cell_type": "code",
   "execution_count": 7,
   "metadata": {},
   "outputs": [],
   "source": [
    "embeddings = OpenAIEmbeddings()\n",
    "\n",
    "vector_store = FAISS.load_local(\n",
    "    \"knowledge_base\", embeddings, allow_dangerous_deserialization=True\n",
    ")\n",
    "retriever = vector_store.as_retriever(search_type=\"mmr\", search_kwargs={\"k\": 5})\n"
   ]
  },
  {
   "cell_type": "markdown",
   "metadata": {},
   "source": [
    "### Naive RAG"
   ]
  },
  {
   "cell_type": "code",
   "execution_count": 8,
   "metadata": {},
   "outputs": [
    {
     "name": "stderr",
     "output_type": "stream",
     "text": [
      "/Users/admin/miniconda3/envs/buffetbot/lib/python3.12/site-packages/langsmith/client.py:5489: LangChainBetaWarning: The function `loads` is in beta. It is actively being worked on, so the API may change.\n",
      "  prompt = loads(json.dumps(prompt_object.manifest))\n"
     ]
    }
   ],
   "source": [
    "\n",
    "from langchain_openai import ChatOpenAI\n",
    "from langchain_core.output_parsers import StrOutputParser\n",
    "from langchain import hub\n",
    "from langchain_core.runnables import RunnablePassthrough\n",
    "\n",
    "# Prompt\n",
    "prompt = hub.pull(\"rlm/rag-prompt\")\n",
    "\n",
    "llm = ChatOpenAI(model_name=\"gpt-4o-mini\", temperature=0)\n",
    "def format_docs(docs):\n",
    "    return \"\\n\\n\".join(doc.page_content for doc in docs)\n",
    "\n",
    "# Chain\n",
    "naive_rag_chain = (\n",
    "    {\"context\": retriever | format_docs, \"question\": RunnablePassthrough()}\n",
    "    | prompt\n",
    "    | llm\n",
    "    | StrOutputParser()\n",
    ")"
   ]
  },
  {
   "cell_type": "markdown",
   "metadata": {},
   "source": [
    "#### RAG Fusion"
   ]
  },
  {
   "cell_type": "code",
   "execution_count": 9,
   "metadata": {},
   "outputs": [],
   "source": [
    "from langchain.prompts import ChatPromptTemplate\n",
    "\n",
    "#------------------------------\n",
    "# RAG-Fusion Question Generating Prompt\n",
    "template = \"\"\"You are a financial assistant that takes questions for Warren Buffet and generates multiple queries, so that Warren understands them properly \\n\n",
    "Generate multiple search queries related to: {question} \\n\n",
    "Output (4 queries):\"\"\"\n",
    "#------------------------------\n",
    "\n",
    "prompt_rag_fusion = ChatPromptTemplate.from_template(template)"
   ]
  },
  {
   "cell_type": "code",
   "execution_count": 10,
   "metadata": {},
   "outputs": [],
   "source": [
    "\n",
    "from langchain_core.output_parsers import StrOutputParser\n",
    "from langchain_openai import ChatOpenAI\n",
    "\n",
    "generate_queries = (\n",
    "    prompt_rag_fusion \n",
    "    | ChatOpenAI(temperature=0)\n",
    "    | StrOutputParser() \n",
    "    | (lambda x: x.split(\"\\n\"))\n",
    ")"
   ]
  },
  {
   "cell_type": "code",
   "execution_count": 11,
   "metadata": {},
   "outputs": [
    {
     "data": {
      "text/plain": [
       "['1. What investment strategies does Warren Buffet recommend for long-term success?',\n",
       " '2. How does Warren Buffet evaluate potential investment opportunities?',\n",
       " '3. What are the key principles that Warren Buffet follows when making investment decisions?',\n",
       " \"4. How can individual investors apply Warren Buffet's value investing approach to their own portfolios?\"]"
      ]
     },
     "execution_count": 11,
     "metadata": {},
     "output_type": "execute_result"
    }
   ],
   "source": [
    "generate_queries.invoke(\"how to invest like you\")"
   ]
  },
  {
   "cell_type": "code",
   "execution_count": 12,
   "metadata": {},
   "outputs": [],
   "source": [
    "from langchain.load import dumps, loads\n",
    "\n",
    "def reciprocal_rank_fusion(results: list[list], k=60, n=5):\n",
    "\n",
    "    fused_scores = {}\n",
    "\n",
    "    # Iterate through each list of ranked documents\n",
    "    for docs in results:\n",
    "        # Iterate through each document in the list, with its rank (position in the list)\n",
    "        for rank, doc in enumerate(docs):\n",
    "            # Convert the document to a string format to use as a key (assumes documents can be serialized to JSON)\n",
    "            doc_str = dumps(doc)\n",
    "            # If the document is not yet in the fused_scores dictionary, add it with an initial score of 0\n",
    "            if doc_str not in fused_scores:\n",
    "                fused_scores[doc_str] = 0\n",
    "            # Retrieve the current score of the document, if any\n",
    "            previous_score = fused_scores[doc_str]\n",
    "            # Update the score of the document using the RRF formula: 1 / (rank + k)\n",
    "            fused_scores[doc_str] += 1 / (rank + k)\n",
    "\n",
    "    # Sort the documents based on their fused scores in descending order to get the final reranked results\n",
    "    reranked_results = [\n",
    "        (loads(doc), score)\n",
    "        for doc, score in sorted(fused_scores.items(), key=lambda x: x[1], reverse=True)\n",
    "    ]\n",
    "\n",
    "    # Return the reranked results as a list of tuples, each containing the document and its fused score\n",
    "    return reranked_results[:5]\n",
    "\n",
    "retrieval_chain_rag_fusion = generate_queries | retriever.map() | reciprocal_rank_fusion"
   ]
  },
  {
   "cell_type": "code",
   "execution_count": 13,
   "metadata": {},
   "outputs": [],
   "source": [
    "from langchain_core.runnables import RunnablePassthrough\n",
    "\n",
    "#------------------------------\n",
    "# Prompt for Generating Answer from RAG-Fusion. Keep {context} and {question} to not break it.\n",
    "template = \"\"\"Answer the following question based on this context:\n",
    "\n",
    "{context}\n",
    "\n",
    "Question: {question}\n",
    "\"\"\"\n",
    "#------------------------------\n",
    "prompt = ChatPromptTemplate.from_template(template)\n",
    "\n",
    "rag_fusion_chain = (\n",
    "    {\"context\": retrieval_chain_rag_fusion, \n",
    "     \"question\": RunnablePassthrough()} \n",
    "    | prompt\n",
    "    | llm\n",
    "    | StrOutputParser()\n",
    ")"
   ]
  },
  {
   "cell_type": "markdown",
   "metadata": {},
   "source": [
    "#### HyDE"
   ]
  },
  {
   "cell_type": "code",
   "execution_count": 14,
   "metadata": {},
   "outputs": [
    {
     "data": {
      "text/plain": [
       "\"Investing like Warren Buffet requires a disciplined approach and a long-term perspective. One of my key principles is to invest in companies with strong competitive advantages and a proven track record of success. I believe in focusing on the fundamentals of a business, rather than trying to time the market or chase short-term gains.\\n\\nAnother important aspect of investing like me is to do thorough research and analysis before making any investment decisions. I always look for companies with a solid balance sheet, consistent earnings growth, and a management team that is aligned with shareholders' interests.\\n\\nI also believe in the power of patience and staying true to your investment thesis, even when the market is volatile or uncertain. By taking a long-term view and staying focused on the fundamentals, I have been able to achieve consistent returns for my shareholders over the years.\\n\\nIn conclusion, to invest like Warren Buffet, focus on companies with strong competitive advantages, do your research, be patient, and stay true to your investment thesis. By following these principles, you can build a successful investment portfolio that stands the test of time.\""
      ]
     },
     "execution_count": 14,
     "metadata": {},
     "output_type": "execute_result"
    }
   ],
   "source": [
    "from langchain.prompts import ChatPromptTemplate\n",
    "\n",
    "#------------------------------\n",
    "# Prompt for generating HyDE paragraph\n",
    "template = \"\"\"You are Warren Buffet. Answer this question with a passage using your principles: {question}\n",
    "Passage:\"\"\"\n",
    "#------------------------------\n",
    "\n",
    "\n",
    "prompt_hyde = ChatPromptTemplate.from_template(template)\n",
    "\n",
    "from langchain_core.output_parsers import StrOutputParser\n",
    "from langchain_openai import ChatOpenAI\n",
    "\n",
    "generate_docs_for_retrieval = (\n",
    "    prompt_hyde | ChatOpenAI(temperature=0) | StrOutputParser() \n",
    ")\n",
    "\n",
    "# Run\n",
    "question = \"how to invest like you?\"\n",
    "generate_docs_for_retrieval.invoke({\"question\":question})"
   ]
  },
  {
   "cell_type": "code",
   "execution_count": 15,
   "metadata": {},
   "outputs": [],
   "source": [
    "# Retrieve\n",
    "retrieval_chain = generate_docs_for_retrieval | retriever \n",
    "retireved_docs = retrieval_chain.invoke({\"question\":question})\n",
    "retireved_docs\n",
    "\n",
    "#------------------------------\n",
    "# Prompt for Generating Answer from HyDE. Keep {context} and {question} to not break it.\n",
    "template = \"\"\"Answer the following question based on this context:\n",
    "\n",
    "{context}\n",
    "\n",
    "Question: {question}\n",
    "\"\"\"\n",
    "#------------------------------\n",
    "\n",
    "prompt = ChatPromptTemplate.from_template(template)\n",
    "\n",
    "hyde_rag_chain = (\n",
    "    {\"context\": retrieval_chain, \n",
    "     \"question\": RunnablePassthrough()} \n",
    "    |prompt\n",
    "    | llm\n",
    "    | StrOutputParser()\n",
    ")"
   ]
  },
  {
   "cell_type": "markdown",
   "metadata": {},
   "source": [
    "### Testing"
   ]
  },
  {
   "cell_type": "code",
   "execution_count": 84,
   "metadata": {},
   "outputs": [],
   "source": [
    "question = \"how do I invest like you?\""
   ]
  },
  {
   "cell_type": "code",
   "execution_count": 86,
   "metadata": {},
   "outputs": [
    {
     "data": {
      "text/plain": [
       "'To invest like an intelligent investor, focus on controlling what you can, such as minimizing costs, managing risk, and maintaining realistic expectations. Adopt a long-term strategy by consistently investing in a total stock-market index fund and avoid reacting to market fluctuations. Lastly, prioritize self-discipline and continuous learning to improve your investment decisions over time.'"
      ]
     },
     "execution_count": 86,
     "metadata": {},
     "output_type": "execute_result"
    }
   ],
   "source": [
    "naive_rag_chain.invoke(question)"
   ]
  },
  {
   "cell_type": "code",
   "execution_count": 87,
   "metadata": {},
   "outputs": [
    {
     "data": {
      "text/plain": [
       "'To invest like Warren Buffett, consider the following key principles based on his investment philosophy:\\n\\n1. **Understand the Business**: Focus on companies that you can easily understand. Buffett emphasizes investing in businesses with strong economic characteristics and a clear business model.\\n\\n2. **Evaluate Management**: Assess the quality of the management team. Look for leaders who have a track record of making wise decisions, allocating capital effectively, and prioritizing shareholder interests over personal gain.\\n\\n3. **Look for \"Franchise\" Companies**: Invest in companies with strong consumer brands, robust financial health, and a competitive edge in their market. These are often companies that can sustain growth over the long term.\\n\\n4. **Margin of Safety**: Always seek a margin of safety in your investments. This means buying stocks at a price that is significantly below their intrinsic value to minimize risk.\\n\\n5. **Long-Term Perspective**: Adopt a long-term investment horizon. Buffett believes in holding onto investments for many years, allowing the company\\'s value to grow over time.\\n\\n6. **Focus Investing**: Instead of diversifying broadly, consider a focus investing strategy where you concentrate on a few high-quality companies. This approach requires thorough research and confidence in your selections.\\n\\n7. **Avoid Market Timing**: Buffett advises against trying to time the market. Instead, focus on the underlying value of the businesses you invest in.\\n\\n8. **Invest in Index Funds for Beginners**: If you\\'re new to investing or have a low tolerance for risk, Buffett recommends starting with index funds, which can outperform many active managers over time.\\n\\n9. **Continuous Learning**: Stay informed and continuously educate yourself about investing and the companies you are interested in. Buffett is known for his extensive reading and research.\\n\\nBy following these principles, you can align your investment strategy more closely with Warren Buffett\\'s approach.'"
      ]
     },
     "execution_count": 87,
     "metadata": {},
     "output_type": "execute_result"
    }
   ],
   "source": [
    "rag_fusion_chain.invoke(question)"
   ]
  },
  {
   "cell_type": "code",
   "execution_count": 92,
   "metadata": {},
   "outputs": [
    {
     "data": {
      "text/plain": [
       "'To invest like the intelligent investors discussed in the provided context, consider the following principles:\\n\\n1. **Control the Controllable**: Focus on aspects of investing that you can manage, such as:\\n   - **Brokerage Costs**: Trade rarely and choose low-cost options.\\n   - **Ownership Costs**: Avoid mutual funds with high annual expenses.\\n   - **Expectations**: Set realistic return expectations based on historical data rather than fantasies.\\n   - **Risk Management**: Decide how much of your total assets to invest in the stock market, diversify your investments, and regularly rebalance your portfolio.\\n   - **Tax Efficiency**: Hold investments for at least one year, and ideally five years, to minimize capital gains taxes.\\n   - **Behavior**: Maintain discipline and avoid emotional reactions to market fluctuations.\\n\\n2. **Long-Term Perspective**: Adopt a long-term investment horizon (25-30 years). Consider investing in a total stock-market index fund and contribute regularly, such as monthly.\\n\\n3. **Focus Investing**: Concentrate your investments in a few high-quality stocks that you believe will yield above-average returns over time. Have the patience to hold these investments through market volatility.\\n\\n4. **Continuous Learning**: Invest in your knowledge and skills. Understand your circle of competence and focus on areas where you have expertise. Keep learning and adapting your strategies over time.\\n\\n5. **Patience and Discipline**: Avoid excessive trading and emotional decision-making. Stick to your investment principles and strategies, even when they are out of fashion.\\n\\nBy following these guidelines, you can develop a disciplined and effective investment approach similar to that of successful investors like Warren Buffett and Charlie Munger.'"
      ]
     },
     "execution_count": 92,
     "metadata": {},
     "output_type": "execute_result"
    }
   ],
   "source": [
    "hyde_rag_chain.invoke({\"question\":question})"
   ]
  },
  {
   "cell_type": "code",
   "execution_count": null,
   "metadata": {},
   "outputs": [],
   "source": [
    "#cicamaca"
   ]
  }
 ],
 "metadata": {
  "kernelspec": {
   "display_name": "langgraph",
   "language": "python",
   "name": "python3"
  },
  "language_info": {
   "codemirror_mode": {
    "name": "ipython",
    "version": 3
   },
   "file_extension": ".py",
   "mimetype": "text/x-python",
   "name": "python",
   "nbconvert_exporter": "python",
   "pygments_lexer": "ipython3",
   "version": "3.12.5"
  }
 },
 "nbformat": 4,
 "nbformat_minor": 2
}
