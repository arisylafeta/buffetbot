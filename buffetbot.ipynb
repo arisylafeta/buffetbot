{
 "cells": [
  {
   "cell_type": "markdown",
   "metadata": {},
   "source": [
    "### Config"
   ]
  },
  {
   "cell_type": "code",
   "execution_count": 1,
   "metadata": {},
   "outputs": [],
   "source": [
    "from dotenv import load_dotenv\n",
    "import os\n",
    "\n",
    "load_dotenv()\n",
    "\n",
    "os.environ['GROQ_API_KEY'] = os.getenv('GROQ_API_KEY')\n",
    "os.environ['LANGCHAIN_API_KEY'] = os.getenv('LANGCHAIN_API_KEY')\n",
    "os.environ[\"LANGCHAIN_TRACING_V2\"] = \"true\"\n",
    "os.environ['LANGCHAIN_PROJECT'] = \"BuffetBot\"\n",
    "os.environ['GOOGLE_API_KEY'] = os.getenv('GOOGLE_API_KEY')\n",
    "os.environ[\"OPENAI_API_KEY\"] = os.getenv(\"OPENAI_API_KEY\")\n",
    "FINANCIAL_MODELING_API_KEY = os.getenv(\"FINANCIAL_MODELING_PREP_API_KEY\")"
   ]
  },
  {
   "cell_type": "markdown",
   "metadata": {},
   "source": [
    "### Knowledge Base (Don't touch)"
   ]
  },
  {
   "cell_type": "code",
   "execution_count": 2,
   "metadata": {},
   "outputs": [
    {
     "ename": "NameError",
     "evalue": "name 'PyPDFLoader' is not defined",
     "output_type": "error",
     "traceback": [
      "\u001b[0;31m---------------------------------------------------------------------------\u001b[0m",
      "\u001b[0;31mNameError\u001b[0m                                 Traceback (most recent call last)",
      "Cell \u001b[0;32mIn[2], line 16\u001b[0m\n\u001b[1;32m     13\u001b[0m documents \u001b[38;5;241m=\u001b[39m []\n\u001b[1;32m     15\u001b[0m \u001b[38;5;28;01mfor\u001b[39;00m pdf_file \u001b[38;5;129;01min\u001b[39;00m pdf_files:\n\u001b[0;32m---> 16\u001b[0m     loader \u001b[38;5;241m=\u001b[39m \u001b[43mPyPDFLoader\u001b[49m(pdf_file)\n\u001b[1;32m     17\u001b[0m     documents\u001b[38;5;241m.\u001b[39mextend(loader\u001b[38;5;241m.\u001b[39mload())\n",
      "\u001b[0;31mNameError\u001b[0m: name 'PyPDFLoader' is not defined"
     ]
    }
   ],
   "source": [
    "import os\n",
    "import numpy as np\n",
    "from langchain.embeddings import OllamaEmbeddings \n",
    "from langchain.text_splitter import RecursiveCharacterTextSplitter\n",
    "from langchain_openai import OpenAIEmbeddings\n",
    "import faiss\n",
    "from langchain_community.docstore.in_memory import InMemoryDocstore\n",
    "from langchain_community.vectorstores import FAISS\n",
    "\n",
    "\n",
    "\n",
    "pdf_files = [\"charlie_munger.pdf\", \"intelligent_investor.pdf\", \"buffet_essays.pdf\"]\n",
    "\n",
    "documents = []\n",
    "\n",
    "for pdf_file in pdf_files:\n",
    "    loader = PyPDFLoader(pdf_file)\n",
    "    documents.extend(loader.load())\n"
   ]
  },
  {
   "cell_type": "code",
   "execution_count": 3,
   "metadata": {},
   "outputs": [
    {
     "ename": "NameError",
     "evalue": "name 'FAISS' is not defined",
     "output_type": "error",
     "traceback": [
      "\u001b[0;31m---------------------------------------------------------------------------\u001b[0m",
      "\u001b[0;31mNameError\u001b[0m                                 Traceback (most recent call last)",
      "Cell \u001b[0;32mIn[3], line 7\u001b[0m\n\u001b[1;32m      3\u001b[0m \u001b[38;5;28;01mfrom\u001b[39;00m \u001b[38;5;21;01mlangchain_openai\u001b[39;00m \u001b[38;5;28;01mimport\u001b[39;00m OpenAIEmbeddings\n\u001b[1;32m      5\u001b[0m index \u001b[38;5;241m=\u001b[39m faiss\u001b[38;5;241m.\u001b[39mIndexFlatL2(\u001b[38;5;28mlen\u001b[39m(OpenAIEmbeddings()\u001b[38;5;241m.\u001b[39membed_query(\u001b[38;5;124m\"\u001b[39m\u001b[38;5;124mhello world\u001b[39m\u001b[38;5;124m\"\u001b[39m)))\n\u001b[0;32m----> 7\u001b[0m vector_store \u001b[38;5;241m=\u001b[39m \u001b[43mFAISS\u001b[49m\u001b[38;5;241m.\u001b[39mload_local(\n\u001b[1;32m      8\u001b[0m     \u001b[38;5;124m\"\u001b[39m\u001b[38;5;124mknowledge_base\u001b[39m\u001b[38;5;124m\"\u001b[39m, embeddings, allow_dangerous_deserialization\u001b[38;5;241m=\u001b[39m\u001b[38;5;28;01mTrue\u001b[39;00m\n\u001b[1;32m      9\u001b[0m )\n\u001b[1;32m     12\u001b[0m uuids \u001b[38;5;241m=\u001b[39m [\u001b[38;5;28mstr\u001b[39m(uuid4()) \u001b[38;5;28;01mfor\u001b[39;00m _ \u001b[38;5;129;01min\u001b[39;00m \u001b[38;5;28mrange\u001b[39m(\u001b[38;5;28mlen\u001b[39m(documents))]\n\u001b[1;32m     13\u001b[0m vector_store\u001b[38;5;241m.\u001b[39madd_documents(documents\u001b[38;5;241m=\u001b[39mdocuments, \u001b[38;5;28mid\u001b[39m\u001b[38;5;241m=\u001b[39muuids)\n",
      "\u001b[0;31mNameError\u001b[0m: name 'FAISS' is not defined"
     ]
    }
   ],
   "source": [
    "from uuid import uuid4\n",
    "\n",
    "index = faiss.IndexFlatL2(len(OpenAIEmbeddings().embed_query(\"hello world\")))\n",
    "\n",
    "vector_store = FAISS.load_local(\n",
    "    \"knowledge_base\", embeddings, allow_dangerous_deserialization=True\n",
    ")\n",
    "\n",
    "\n",
    "uuids = [str(uuid4()) for _ in range(len(documents))]\n",
    "vector_store.add_documents(documents=documents, id=uuids)\n"
   ]
  },
  {
   "cell_type": "code",
   "execution_count": 59,
   "metadata": {},
   "outputs": [],
   "source": [
    "vector_store.save_local(\"knowledge_base\")"
   ]
  },
  {
   "cell_type": "markdown",
   "metadata": {},
   "source": [
    "### Playground"
   ]
  },
  {
   "cell_type": "code",
   "execution_count": 1,
   "metadata": {},
   "outputs": [],
   "source": [
    "import os\n",
    "import numpy as np\n",
    "from langchain.embeddings import OllamaEmbeddings \n",
    "from langchain.text_splitter import RecursiveCharacterTextSplitter\n",
    "from langchain_openai import OpenAIEmbeddings\n",
    "import faiss\n",
    "from langchain_community.docstore.in_memory import InMemoryDocstore\n",
    "from langchain_community.vectorstores import FAISS"
   ]
  },
  {
   "cell_type": "code",
   "execution_count": 2,
   "metadata": {},
   "outputs": [],
   "source": [
    "os.environ['OPENAI_API_KEY'] = os.getenv('OPENAI_API_KEY') ### PLACE YOUR OPENAI API KEY HERE\n",
    "embeddings = OpenAIEmbeddings()"
   ]
  },
  {
   "cell_type": "code",
   "execution_count": 3,
   "metadata": {},
   "outputs": [],
   "source": [
    "embeddings = OpenAIEmbeddings()\n",
    "\n",
    "vector_store = FAISS.load_local(\n",
    "    \"knowledge_base\", embeddings, allow_dangerous_deserialization=True\n",
    ")\n",
    "retriever = vector_store.as_retriever(search_type=\"mmr\", search_kwargs={\"k\": 5})\n"
   ]
  },
  {
   "cell_type": "markdown",
   "metadata": {},
   "source": [
    "#### Universal Prompt"
   ]
  },
  {
   "cell_type": "code",
   "execution_count": 36,
   "metadata": {},
   "outputs": [],
   "source": [
    "from langchain.prompts import ChatPromptTemplate\n",
    "#------------------------------\n",
    "# Prompt for Generating Answer from HyDE. Keep {context} and {question} to not break it.\n",
    "template = \"\"\"Answer the following question based on this context:\n",
    "\n",
    "{context}\n",
    "\n",
    "Question: {question}\n",
    "\"\"\"\n",
    "#------------------------------\n",
    "\n",
    "universal_prompt = ChatPromptTemplate.from_template(template)"
   ]
  },
  {
   "cell_type": "markdown",
   "metadata": {},
   "source": [
    "### Naive RAG"
   ]
  },
  {
   "cell_type": "code",
   "execution_count": 37,
   "metadata": {},
   "outputs": [],
   "source": [
    "\n",
    "from langchain_openai import ChatOpenAI\n",
    "from langchain_core.output_parsers import StrOutputParser\n",
    "from langchain import hub\n",
    "from langchain_core.runnables import RunnablePassthrough\n",
    "\n",
    "\n",
    "llm = ChatOpenAI(model_name=\"gpt-4o-mini\", temperature=0)\n",
    "def format_docs(docs):\n",
    "    return \"\\n\\n\".join(doc.page_content for doc in docs)\n",
    "\n",
    "# Chain\n",
    "naive_rag_chain = (\n",
    "    {\"context\": retriever | format_docs, \n",
    "     \"question\": RunnablePassthrough()} \n",
    "    | universal_prompt\n",
    "    | {\"prompt\": lambda x: x.to_string(), \"response\": llm}\n",
    "    | (lambda x: (x[\"prompt\"], x[\"response\"].content))\n",
    ")"
   ]
  },
  {
   "cell_type": "markdown",
   "metadata": {},
   "source": [
    "#### RAG Fusion"
   ]
  },
  {
   "cell_type": "code",
   "execution_count": 38,
   "metadata": {},
   "outputs": [],
   "source": [
    "from langchain.prompts import ChatPromptTemplate\n",
    "\n",
    "#------------------------------\n",
    "# RAG-Fusion Question Generating Prompt\n",
    "template = \"\"\"You are a financial assistant that takes questions for Warren Buffet and generates multiple queries, so that Warren understands them properly \\n\n",
    "Generate multiple search queries related to: {question} \\n\n",
    "Output (4 queries):\"\"\"\n",
    "#------------------------------\n",
    "\n",
    "prompt_rag_fusion = ChatPromptTemplate.from_template(template)"
   ]
  },
  {
   "cell_type": "code",
   "execution_count": 39,
   "metadata": {},
   "outputs": [],
   "source": [
    "\n",
    "from langchain_core.output_parsers import StrOutputParser\n",
    "from langchain_openai import ChatOpenAI\n",
    "\n",
    "generate_queries = (\n",
    "    prompt_rag_fusion \n",
    "    | ChatOpenAI(temperature=0)\n",
    "    | StrOutputParser() \n",
    "    | (lambda x: x.split(\"\\n\"))\n",
    ")"
   ]
  },
  {
   "cell_type": "code",
   "execution_count": 40,
   "metadata": {},
   "outputs": [
    {
     "data": {
      "text/plain": [
       "['1. What investment strategies does Warren Buffet recommend for long-term success?',\n",
       " '2. How does Warren Buffet evaluate potential investment opportunities?',\n",
       " '3. What are the key principles that Warren Buffet follows when making investment decisions?',\n",
       " \"4. How can individual investors apply Warren Buffet's value investing approach to their own portfolios?\"]"
      ]
     },
     "execution_count": 40,
     "metadata": {},
     "output_type": "execute_result"
    }
   ],
   "source": [
    "generate_queries.invoke(\"how to invest like you\")"
   ]
  },
  {
   "cell_type": "code",
   "execution_count": 8,
   "metadata": {},
   "outputs": [],
   "source": [
    "from langchain.load import dumps, loads\n",
    "\n",
    "def reciprocal_rank_fusion(results: list[list], k=60, n=5):\n",
    "\n",
    "    fused_scores = {}\n",
    "\n",
    "    # Iterate through each list of ranked documents\n",
    "    for docs in results:\n",
    "        # Iterate through each document in the list, with its rank (position in the list)\n",
    "        for rank, doc in enumerate(docs):\n",
    "            # Convert the document to a string format to use as a key (assumes documents can be serialized to JSON)\n",
    "            doc_str = dumps(doc)\n",
    "            # If the document is not yet in the fused_scores dictionary, add it with an initial score of 0\n",
    "            if doc_str not in fused_scores:\n",
    "                fused_scores[doc_str] = 0\n",
    "            # Retrieve the current score of the document, if any\n",
    "            previous_score = fused_scores[doc_str]\n",
    "            # Update the score of the document using the RRF formula: 1 / (rank + k)\n",
    "            fused_scores[doc_str] += 1 / (rank + k)\n",
    "\n",
    "    # Sort the documents based on their fused scores in descending order to get the final reranked results\n",
    "    reranked_results = [\n",
    "        (loads(doc), score)\n",
    "        for doc, score in sorted(fused_scores.items(), key=lambda x: x[1], reverse=True)\n",
    "    ]\n",
    "\n",
    "    # Return the reranked results as a list of tuples, each containing the document and its fused score\n",
    "    return reranked_results[:5]\n",
    "\n",
    "retrieval_chain_rag_fusion = generate_queries | retriever.map() | reciprocal_rank_fusion"
   ]
  },
  {
   "cell_type": "code",
   "execution_count": 52,
   "metadata": {},
   "outputs": [],
   "source": [
    "from langchain_core.runnables import RunnablePassthrough\n",
    "\n",
    "def format_docs(docs):\n",
    "    if isinstance(docs, tuple) and len(docs) == 2:\n",
    "        # Assuming the second element of the tuple contains the documents\n",
    "        docs = docs[1]\n",
    "    \n",
    "    if isinstance(docs, list):\n",
    "        formatted_docs = []\n",
    "        for item in docs:\n",
    "            if isinstance(item, tuple) and len(item) == 2 and hasattr(item[0], 'page_content'):\n",
    "                # This is the case for RAG Fusion output\n",
    "                formatted_docs.append(item[0].page_content)\n",
    "            elif hasattr(item, 'page_content'):\n",
    "                # This is the case for regular Document objects\n",
    "                formatted_docs.append(item.page_content)\n",
    "            else:\n",
    "                # Fallback for any other type of item\n",
    "                formatted_docs.append(str(item))\n",
    "        return \"\\n\\n\".join(formatted_docs)\n",
    "    else:\n",
    "        return str(docs)\n",
    "\n",
    "rag_fusion_chain = (\n",
    "    {\"context\": retrieval_chain_rag_fusion | format_docs, \n",
    "     \"question\": RunnablePassthrough()} \n",
    "    | universal_prompt\n",
    "    | {\"prompt\": lambda x: x.to_string(), \"response\": llm}\n",
    "    | (lambda x: (x[\"prompt\"], x[\"response\"].content))\n",
    ")"
   ]
  },
  {
   "cell_type": "markdown",
   "metadata": {},
   "source": [
    "#### HyDE"
   ]
  },
  {
   "cell_type": "code",
   "execution_count": 10,
   "metadata": {},
   "outputs": [
    {
     "data": {
      "text/plain": [
       "'Investing like Warren Buffet requires a disciplined approach and a long-term perspective. One of my key principles is to invest in companies with strong competitive advantages and a proven track record of success. I believe in focusing on the fundamentals of a business, rather than trying to time the market or chase short-term gains.\\n\\nAnother important aspect of investing like me is to do thorough research and analysis before making any investment decisions. I always look for companies with a solid management team, a sustainable business model, and a history of generating consistent profits.\\n\\nI also believe in the power of patience and staying true to your investment thesis, even when the market is volatile or uncertain. By taking a long-term view and staying focused on the fundamentals, I have been able to achieve significant success in the world of investing.\\n\\nIn conclusion, to invest like Warren Buffet, it is important to focus on quality companies, do your homework, and have the patience to ride out market fluctuations. By following these principles, you can increase your chances of achieving long-term success in the stock market.'"
      ]
     },
     "execution_count": 10,
     "metadata": {},
     "output_type": "execute_result"
    }
   ],
   "source": [
    "from langchain.prompts import ChatPromptTemplate\n",
    "\n",
    "#------------------------------\n",
    "# Prompt for generating HyDE paragraph\n",
    "template = \"\"\"You are Warren Buffet. Answer this question with a passage using your principles: {question}\n",
    "Passage:\"\"\"\n",
    "#------------------------------\n",
    "\n",
    "\n",
    "prompt_hyde = ChatPromptTemplate.from_template(template)\n",
    "\n",
    "from langchain_core.output_parsers import StrOutputParser\n",
    "from langchain_openai import ChatOpenAI\n",
    "\n",
    "generate_docs_for_retrieval = (\n",
    "    prompt_hyde | ChatOpenAI(temperature=0) | StrOutputParser() \n",
    ")\n",
    "\n",
    "# Run\n",
    "question = \"how to invest like you?\"\n",
    "generate_docs_for_retrieval.invoke({\"question\":question})"
   ]
  },
  {
   "cell_type": "code",
   "execution_count": 57,
   "metadata": {},
   "outputs": [],
   "source": [
    "# Retrieve\n",
    "retrieval_chain = generate_docs_for_retrieval | retriever \n",
    "retireved_docs = retrieval_chain.invoke({\"question\":question})\n",
    "retireved_docs\n",
    "\n",
    "def format_docs(docs):\n",
    "    if isinstance(docs, tuple) and len(docs) == 2:\n",
    "        # Assuming the second element of the tuple contains the documents\n",
    "        docs = docs[1]\n",
    "    \n",
    "    if isinstance(docs, list):\n",
    "        return \"\\n\\n\".join(doc.page_content if hasattr(doc, 'page_content') else str(doc) for doc in docs)\n",
    "    else:\n",
    "        return str(docs)\n",
    "\n",
    "hyde_rag_chain = (\n",
    "    {\"context\": retrieval_chain | format_docs, \n",
    "     \"question\": RunnablePassthrough()} \n",
    "    | universal_prompt\n",
    "    | {\"prompt\": lambda x: x.to_string(), \"response\": llm}\n",
    "    | (lambda x: (x[\"prompt\"], x[\"response\"].content))\n",
    ")"
   ]
  },
  {
   "cell_type": "markdown",
   "metadata": {},
   "source": [
    "### Testing"
   ]
  },
  {
   "cell_type": "code",
   "execution_count": 43,
   "metadata": {},
   "outputs": [],
   "source": [
    "question = \"how do I invest like you?\""
   ]
  },
  {
   "cell_type": "code",
   "execution_count": 48,
   "metadata": {},
   "outputs": [
    {
     "data": {
      "text/plain": [
       "('Human: Answer the following question based on this context:\\n\\nInstead, recognize that investing intelligently is about controlling\\nthe controllable. You can’t control whether the stocks or funds you buy\\nwill outperform the market today, next week, this month, or this year; inthe short run, your returns will always be hostage to Mr. Market andhis whims. But you cancontrol:\\n•your brokerage costs, by trading rarely, patiently, and cheaply\\n•your ownership costs, by refusing to buy mutual funds with\\nexcessive annual expenses\\n•your expectations, by using realism, not fantasy, to forecast your\\nreturns\\n7\\n•your risk, by deciding how much of your total assets to put at\\nhazard in the stock market, by diversifying, and by rebalancing\\n•your tax bills, by holding stocks for at least one year and, when-\\never possible, for at least five years, to lower your capital-gains lia-\\nbility\\n• and, most of all, your own behavior.\\nIf you listen to financial TV, or read most market columnists, you’d\\nthink that investing is some kind of sport, or a war, or a struggle forsurvival in a hostile wilderness. \\nBut investing isn’t about beating oth-\\ners at their game. It’s about controlling yourself at your own game.\\nThe challenge for the intelligent investor is not to find the stocks that\\nwill go up the most and down the least, but rather to prevent yourself\\nfrom being your own worst enemy—from buying high just because Mr.\\nMarket says “Buy!” and from selling low just because Mr. Market says“Sell!”\\nIf you investment horizon is long—at least 25 or 30 years—there is\\nonly one sensible approach: Buy every month, automatically, andwhenever else you can spare some money. The single best choice for\\nthis lifelong holding is a total stock-market index fund. Sell only when\\nyou need the cash (for a psychological boost, clip out and sign your“Investment Owner’s Contract”—which you can find on p. 225).\\nTo be an intelligent investor, you must also refuse to judge your\\nfinancial success by how a bunch of total strangers are doing. You’renot one penny poorer if someone in Dubuque or Dallas or DenverCommentary on Chapter 8 219\\n7See the brilliant column by Walter Updegrave, “Keep It Real, ” Money, Feb-\\nruary, 2002, pp. 53–56.\\n\\n \\n[A young shareholder asked Charlie how to follow in his footsteps, and\\nCharlie brought down the house by saying:] W e get these questions a lot\\nfrom the enterprising young. It\\'s a very intelligent question; Y ou look at\\nsome old guy who\\'s rich and you ask, \"How can I become like you, except\\nfaster?\" Spend each day trying to be a little wiser than you were when you\\nwoke up. Dischar ge your duties faithfully and well. Step by step you get\\nahead, but not necessarily in fast spurts. But you build discipline by\\npreparing for fast spurts.... Slug it out one inch at a time, day by day . At the\\nend of the day-if you live long enough-most people get what they deserve. \\xa0\\n \\nHow to Find a Good Spouse \\xa0\\n \\nWhat\\'s the best way to get a good spouse? The best single way is to deserve\\na \\xa0\\ngood spouse because a good spouse is by definition not nuts. \\xa0\\n \\nThe Importance of Reading \\xa0\\n \\nIn my whole life, I have known no wise people (over a broad subject matter\\narea) who didn\\'t read all the time-none, zero. Y ou\\'d be amazed at how much\\nWarren reads-and at how much I read. My children laugh at me. \\'They think\\nI\\'m a book with a couple of legs sticking out. \\xa0\\nI am a biography not myself. And I think when you\\'re trying to teach the\\ngreat concepts that work, it helps to tie them into the lives and personalities\\nof the people who developed than. I think you learn economics better if -\\n\\nHow do you choose investments? What investing approach do you\\nbelieve is most successful, and what evidence can you show me that\\nyou have achieved that kind of success for your clients? What do youdo when an investment performs poorly for an entire year? (Anyadviser who answers “sell” is not worth hiring.)\\nDo you, when recommending investments, accept any form of com-\\npensation from any third party? Why or why not? Under which circum-stances? How much, in actual dollars, do you estimate I would pay for\\nyour services the first year? What would make that number go up ordown over time? (If fees will consume more than 1% of your assets\\nannually, you should probably shop for another adviser.\\n6)\\nHow many clients do you have, and how often do you communicate\\nwith them? What has been your proudest achievement for a client?\\nWhat characteristics do your favorite clients share? What’s the worst\\nexperience you’ve had with a client, and how did you resolve it? Whatdetermines whether a client speaks to you or to your support staff?How long do clients typically stay with you?\\nCan I see a sample account statement? (If you can’t understand it,\\nask the adviser to explain it. If you can’t understand his explanation,\\nhe’s not right for you.)\\nDo you consider yourself financially successful? Why? How do you\\ndefine financial success?\\nHow high an average annual return do you think is feasible on my\\ninvestments? (Anything over 8% to10% is unrealistic.)\\nWill you provide me with your résumé, your Form ADV, and at least\\nthree references? (If the adviser or his firm is required to file an ADV,\\nand he will not provide you a copy, get up and leave—and keep one\\nhand on your wallet as you go.)\\nHave you ever had a formal complaint filed against you? Why did\\nthe last client who fired you do so?Commentary on Chapter 10 277\\n6If you have less than $100,000 to invest, you may not be able to find a\\nfinancial adviser who will take your account. In that case, buy a diversified\\nbasket of low-cost index funds, follow the behavioral advice throughout thisbook, and your portfolio should eventually grow to the level at which you canafford an adviser.\\n\\n\"It takes character to sit there with all that cash and do nothing. I didn\\'t get\\nto where I am by going after mediocre opportunities.\" \\xa0\\n \\n\"In making investments, I have always believed that you must act with\\ndiscipline whenever you see something you truly like. T o explain this\\nphilosophy , Buf fett/Munger like to use a baseball analogy that I find\\nparticularly illuminating, though I myself am not at all a baseball expert.\\nTed W illiams is the only baseball player who had a .400 single-season\\nhitting record in the last seven decades. In the Science of Hitting he\\nexplained his technique. He divided the strike zone into seventy-seven cells,\\neach representing the size of a baseball. He would insist on swinging only\\nat balls in his \\'best\\' cells, even at the risk of striking out, because reaching\\nfor the \\'worst\\' spots would seriously reduce his chances of success. As a\\nsecurities investor , you can watch all sorts of business propositions in the\\nform of security prices thrown at you all the time. For the most part, you\\ndon\\'t have to do a thing other than be amused. Once in awhile, you will find\\na \\'fat pitch that is slow , straight, and right in the middle of your sweet spot.\\nThen you swing hard. This way , no matter what natural ability you start\\nwith, you will substantially increase your hitting average. One common\\nproblem for investors is that they tend to swing too often. This is true for\\nboth individuals and for professional investors operating under institutional\\nimperatives, one version of which drove me out of the conventional\\nlong/short hedge fund operation. However , the opposite problem is equally\\nharmful to long-term results: Y ou discover a fat pitch\\' but are unable to\\nswing with the full weight of your capital.\" \\xa0\\n \\n\\n \\nIf your new behavior earns a little temporary unpopularity with your peer\\ngroup then the hell with them \\xa0\\n \\nBe satisfied with what you have \\xa0\\n \\nThere is one truth that perhaps you are typical investment counsel would\\ndisagree with if you are comfortable e rich and someone else is getting\\nricher faster than you by for example investing and risky stocks so what\\nsomeone will always be getting faster than you this is not a tragedy look at\\nStanley Druckenmiller who ran one of Geor ge soros fund which suf fered\\nlarge losses in speculative T ech and Biotech stocks he always had to be the\\nbest and couldn\\'t stand that others were beating him by investing in these\\nsectors. \\xa0\\nSoros couldn\\'t bear to see others make money in the technology sector\\nwithout him, and he got killed. It doesn\\'t bother us at all [that others are\\nmaking money in the tech sector]. \\xa0\\n \\nBewar e of Envy \\xa0\\n \\nThe idea of caring that someone is making money faster [than you are] is\\none of the deadly sins. Envy is a really stupid sin because it\\'s the only one\\nyou could never possibly have any fun at. There\\'s a lot of pain and no fun.\\nWhy would you want to get on that trolley? \\xa0\\n \\nHow to Get Rich \\xa0\\n\\nQuestion: how do I invest like you?\\n',\n",
       " 'To invest like the intelligent investors described in the context, focus on the following principles:\\n\\n1. **Control the Controllable**: Recognize that you cannot control market fluctuations or predict short-term performance. Instead, focus on aspects you can control, such as:\\n   - **Brokerage Costs**: Trade infrequently and choose low-cost options.\\n   - **Ownership Costs**: Avoid mutual funds with high annual fees.\\n   - **Expectations**: Set realistic return expectations based on historical data rather than fantasies.\\n   - **Risk Management**: Decide how much of your assets to invest in the stock market, diversify your investments, and regularly rebalance your portfolio.\\n   - **Tax Efficiency**: Hold investments for at least a year to minimize capital gains taxes.\\n   - **Behavior**: Maintain discipline and avoid emotional reactions to market movements.\\n\\n2. **Long-Term Investment Horizon**: Commit to a long-term investment strategy (25-30 years). Consider investing in a total stock-market index fund and contribute regularly, regardless of market conditions.\\n\\n3. **Avoid Comparisons**: Do not measure your financial success against others. Your performance is independent of what others are doing in the market.\\n\\n4. **Continuous Learning**: Read extensively to enhance your knowledge and understanding of investing principles.\\n\\n5. **Patience and Discipline**: Invest consistently and resist the urge to react impulsively to market trends. Focus on making informed decisions rather than chasing quick gains.\\n\\nBy adhering to these principles, you can develop a disciplined and effective investment strategy that aligns with the practices of successful investors.')"
      ]
     },
     "execution_count": 48,
     "metadata": {},
     "output_type": "execute_result"
    }
   ],
   "source": [
    "naive_rag_chain.invoke(question)"
   ]
  },
  {
   "cell_type": "code",
   "execution_count": 53,
   "metadata": {},
   "outputs": [
    {
     "data": {
      "text/plain": [
       "('Human: Answer the following question based on this context:\\n\\n(Document(metadata={\\'source\\': \\'warren_buffet_portfolio.pdf\\', \\'page\\': 234}, page_content=\\'5. Ibid.\\\\n6. Ibid.\\\\n7. Buffett, \"Superinvestors.\"\\\\n8. Ibid.\\\\n9. Ibid.\\\\n  \\'), 0.06504494976203068)\\n\\n(Document(metadata={\\'source\\': \\'warren_buffet_portfolio.pdf\\', \\'page\\': 39}, page_content=\"Page 31\\\\nIs It a Good Investment?\\\\nTo ascertain the probability of achieving a return on your initial \\\\nstake, Buffett encourages you to keep four primary factors clearly in mind:\\\\n1. The certainty with which the long-term economic \\\\ncharacteristics of the business can be evaluated.\\\\n2. The certainty with which management can be evaluated, both \\\\nas to its ability to realize the full potential of the business and to wisely employ its cash flows.\\\\n3. The certainty with which management can be counted on to \\\\nchannel the rewards from the business to the shareholders rather \\\\nthan to itself.\\\\n4. The purchase price of the business. \\\\n11\\\\nway of thinking, buying Coca-Cola this morning and holding it for ten years, carries zero risk.\\\\nBuffett on Diversification\\\\nBuffett\\'s view on risk drives his diversification strategy; here too, his thinking is the polar opposite of \\\\nmodern portfolio theory. According to that theory, remember, the primary benefit of a broadly diversified portfolio is to mitigate the price volatility of the individual stocks. But if you are unconcerned with price volatility, as Buffett is, then you will also see portfolio diversification in a different light.\\\\n  \"), 0.049206349206349205)\\n\\n(Document(metadata={\\'source\\': \\'intelligent_investor.pdf\\', \\'page\\': 414}, page_content=\\'Commentary on Chapter 15 401\\\\nWARREN’S WAY\\\\nGraham’s greatest student, Warren Buffett, has become the\\\\nworld’s most successful investor by putting new twists onGraham’s ideas. Buffett and his partner, Charles Munger, have\\\\ncombined Graham’s “margin of safety” and detachment from\\\\nthe market with their own innovative emphasis on future growth.Here is an all-too-brief summary of Buffett’s approach:\\\\nHe looks for what he calls “franchise” companies with strong\\\\nconsumer brands, easily understandable businesses, robustfinancial health, and near-monopolies in their markets, like H & R\\\\nBlock, Gillette, and the Washington Post Co. Buffett likes to\\\\nsnap up a stock when a scandal, big loss, or other bad newspasses over it like a storm cloud—as when he bought Coca-Cola\\\\nsoon after its disastrous rollout of “New Coke” and the market\\\\ncrash of 1987 . He also wants to see managers who set andmeet realistic goals; build their businesses from within rather\\\\nthan through acquisition; allocate capital wisely; and do not pay\\\\nthemselves hundred-million-dollar jackpots of stock options.Buffett insists on steady and sustainable growth in earnings, sothe company will be worth more in the future than it is today.\\\\nIn his annual reports, archived at www.berkshirehathaway.\\\\ncom, Buffett has set out his thinking like an open book. Probably\\\\nno other investor, Graham included, has publicly revealed more\\\\nabout his approach or written such compellingly readableessays. (One classic Buffett proverb: “When a management\\\\nwith a reputation for brilliance tackles a business with a reputa-\\\\ntion for bad economics, it is the reputation of the business thatremains intact. ”) Every intelligent investor can—and should—learn\\\\nby reading this master’s own words.\\'), 0.03225806451612903)\\n\\n(Document(metadata={\\'source\\': \\'warren_buffet_portfolio.pdf\\', \\'page\\': 14}, page_content=\\'Page 6\\\\nA New Choice\\\\nWhat does Warren Buffett say about this ongoing debate regarding index versus active strategy? \\\\nGiven these two particular choices, he would unhesitatingly pick indexing. Especially if he were thinking of investors with a very low tolerance for risk, and people who know very little about the economics of a business but still want to participate in the long-term benefits of investing in common stocks. \"By periodically investing in an index fund,\" Buffett says in his inimitable style, \"the know-\\\\nnothing investor can actually outperform most investment professionals.\" \\\\n2\\\\nBuffett, however, would be quick to point out that there is a third alternative, a very different kind of \\\\nactive portfolio strategy that significantly increases the odds of beating the index. That alternative is focus investing.\\\\nFocus Investing: The Big Picture\\\\n\"Find Outstanding Companies\"\\\\nOver the years, Warren Buffett has developed a way of choosing the companies he considers worthy \\\\nplaces to put his money. His choice rests on a notion of great common sense: if the company itself is doing well and is managed by smart people, eventually its inherent value will be reflected in its stock price. Buffett thus devotes most of his attention not to tracking share price but to analyzing the economics of the underlying business and assessing its management.\\\\nThis is not to suggest that analyzing the company—uncovering all the information that tells us its \\\\neconomic value—is particularly easy. It does indeed take some work. But Buffett has often remarked that doing this \"homework\" requires no more energy\\\\n  \\'), 0.016666666666666666)\\n\\n(Document(metadata={\\'source\\': \\'warren_buffet_portfolio.pdf\\', \\'page\\': 24}, page_content=\\'Page 16\\\\nJohn Maynard Keynes. What Buffett did, with stunning success, was apply the rationale, even before \\\\nhe gave it its name. The question that fascinates me is why Wall Street, noted for its unabashed willingness to copy success, has so far disregarded focus investing as a legitimate approach.\\\\nIn 1995, we launched Legg Mason Focus Trust, only the second mutual fund to purposely own \\\\nfifteen (or fewer) stocks. (The first was Sequoia Fund; its story is told in Chapter 3.) Focus Trust has given me the invaluable experience of managing a focus portfolio. Over the past four years, I have had the opportunity to interact with shareholders, consultants, analysts, other portfolio managers, and the financial media, and what I have learned has led me to believe that focus investors operate in a world far different from the one that dominates the investment industry. The simple truth is, they \\\\nthink differently.\\\\nCharlie Munger helped me to understand this pattern of thinking by using the very powerful \\\\nmetaphor of a latticework of models. In 1995, Munger delivered a lecture entitled \"Investment Expertise as a Subdivision of Elementary, Worldly Wisdom\" to Professor Guilford Babcock\\\\\\'s class at the University of Southern California School of Business. The lecture, which was covered in OID, was particularly fun for Charlie because it centered around a topic that he considers especially important: how people achieve true understanding, or what he calls \"worldly wisdom.\"\\\\nA simple exercise of compiling and quoting facts and figures is not enough. Rather, Munger explains, \\\\nwisdom is very much about how facts align and combine. He believes that the only way to achieve \\\\nwisdom is to be able to hang life\\\\\\'s experience across a broad cross-section of mental models. \"You\\\\\\'ve \\\\ngot to have models in your head,\" he explained, \"and you\\\\\\'ve got to array your experience—both \\\\nvicarious and direct—on this latticework of models.\" (OID) \\\\n13\\\\n  \\'), 0.016666666666666666)\\n\\nQuestion: how do I invest like you?\\n',\n",
       " 'To invest like Warren Buffett, consider the following key principles based on his investment philosophy:\\n\\n1. **Focus on Quality Companies**: Look for \"franchise\" companies with strong consumer brands, understandable business models, robust financial health, and a competitive edge in their markets.\\n\\n2. **Evaluate Management**: Assess the management team\\'s ability to realize the company\\'s potential and allocate capital wisely. Look for managers who set realistic goals and prioritize shareholder interests over personal gain.\\n\\n3. **Long-Term Perspective**: Invest with a long-term horizon in mind. Buffett believes that if a company is fundamentally strong, its stock price will eventually reflect its true value.\\n\\n4. **Margin of Safety**: Always consider the margin of safety when investing. This means buying stocks at a price that is significantly below their intrinsic value to minimize risk.\\n\\n5. **Do Your Homework**: Conduct thorough research and analysis of the companies you are interested in. Understand their economic value and the factors that influence their performance.\\n\\n6. **Consider Indexing for Beginners**: If you\\'re new to investing or have a low tolerance for risk, Buffett suggests that investing in index funds can be a good strategy, as it allows you to participate in the long-term growth of the market.\\n\\n7. **Focus Investing**: Instead of diversifying broadly, consider a focus investing strategy where you concentrate on a smaller number of high-quality stocks. This approach requires a deep understanding of each company.\\n\\n8. **Stay Disciplined and Patient**: Avoid being swayed by market trends or short-term volatility. Stick to your investment strategy and be patient for the long-term results.\\n\\nBy following these principles, you can align your investment approach with Buffett\\'s successful strategies.')"
      ]
     },
     "execution_count": 53,
     "metadata": {},
     "output_type": "execute_result"
    }
   ],
   "source": [
    "rag_fusion_chain.invoke(question)"
   ]
  },
  {
   "cell_type": "code",
   "execution_count": 54,
   "metadata": {},
   "outputs": [],
   "source": [
    "a =hyde_rag_chain.invoke(question)"
   ]
  },
  {
   "cell_type": "code",
   "execution_count": 55,
   "metadata": {},
   "outputs": [
    {
     "data": {
      "text/plain": [
       "\"Human: Answer the following question based on this context:\\n\\nInstead, recognize that investing intelligently is about controlling\\nthe controllable. You can’t control whether the stocks or funds you buy\\nwill outperform the market today, next week, this month, or this year; inthe short run, your returns will always be hostage to Mr. Market andhis whims. But you cancontrol:\\n•your brokerage costs, by trading rarely, patiently, and cheaply\\n•your ownership costs, by refusing to buy mutual funds with\\nexcessive annual expenses\\n•your expectations, by using realism, not fantasy, to forecast your\\nreturns\\n7\\n•your risk, by deciding how much of your total assets to put at\\nhazard in the stock market, by diversifying, and by rebalancing\\n•your tax bills, by holding stocks for at least one year and, when-\\never possible, for at least five years, to lower your capital-gains lia-\\nbility\\n• and, most of all, your own behavior.\\nIf you listen to financial TV, or read most market columnists, you’d\\nthink that investing is some kind of sport, or a war, or a struggle forsurvival in a hostile wilderness. \\nBut investing isn’t about beating oth-\\ners at their game. It’s about controlling yourself at your own game.\\nThe challenge for the intelligent investor is not to find the stocks that\\nwill go up the most and down the least, but rather to prevent yourself\\nfrom being your own worst enemy—from buying high just because Mr.\\nMarket says “Buy!” and from selling low just because Mr. Market says“Sell!”\\nIf you investment horizon is long—at least 25 or 30 years—there is\\nonly one sensible approach: Buy every month, automatically, andwhenever else you can spare some money. The single best choice for\\nthis lifelong holding is a total stock-market index fund. Sell only when\\nyou need the cash (for a psychological boost, clip out and sign your“Investment Owner’s Contract”—which you can find on p. 225).\\nTo be an intelligent investor, you must also refuse to judge your\\nfinancial success by how a bunch of total strangers are doing. You’renot one penny poorer if someone in Dubuque or Dallas or DenverCommentary on Chapter 8 219\\n7See the brilliant column by Walter Updegrave, “Keep It Real, ” Money, Feb-\\nruary, 2002, pp. 53–56.\\n\\nFocus Investing \\xa0\\n \\nOur investment style has been given a name-focus investing-which implies\\nten holdings, not one hundred or four hundred. The idea that it is hard to\\nfind good investments, so concentrate in a few , seems to me to be an\\nobviously good idea. But ninety-eight percent of the investment world\\ndoesn't think this way . It's been good for us-and you-that we've done this.\\nWhat's funny is that most big investment or ganizations don't think like this.\\nThey hire lots of people, evaluate Merck vs. Pfizer and every stock in the\\nS&P 500, and think they can beat the market. Y ou can't do it. \\xa0\\n \\nOur game is to recognize a business idea when it comes along when one\\ndoesn't come along very often, Opportunity comes to the prepared mind.. \\xa0\\n \\nWe have this investment discipline of waiting for a fat pitch. If I was\\noffered the chance to go into a business where people would measure me\\nagainst benchmarks, force me to be fully invested, crawl around looking\\nover my shoulder , etc., I would hate it. I would regard it as putting me into\\nshackles. V ery few people have adopted our approach. Focus investing is\\ngrowing somewhat, but what's really growing is the unlimited use of\\nconsultants to advise on asset allocation, to analyze other consultants, and\\nso forth. Maybe two percent of people will come into our corner of the tent,\\nand the rest of the ninety-eight percent will believe what they've been told\\n[e.g., that markets are totally ef ficient. \\xa0\\n \\nMisteaching Investing \\xa0\\n\\nPage 31\\nIs It a Good Investment?\\nTo ascertain the probability of achieving a return on your initial \\nstake, Buffett encourages you to keep four primary factors clearly in mind:\\n1. The certainty with which the long-term economic \\ncharacteristics of the business can be evaluated.\\n2. The certainty with which management can be evaluated, both \\nas to its ability to realize the full potential of the business and to wisely employ its cash flows.\\n3. The certainty with which management can be counted on to \\nchannel the rewards from the business to the shareholders rather \\nthan to itself.\\n4. The purchase price of the business. \\n11\\nway of thinking, buying Coca-Cola this morning and holding it for ten years, carries zero risk.\\nBuffett on Diversification\\nBuffett's view on risk drives his diversification strategy; here too, his thinking is the polar opposite of \\nmodern portfolio theory. According to that theory, remember, the primary benefit of a broadly diversified portfolio is to mitigate the price volatility of the individual stocks. But if you are unconcerned with price volatility, as Buffett is, then you will also see portfolio diversification in a different light.\\n  \\n\\nhave in common; by reading the managers’ commentary, you may get\\nideas on how to improve your own approach.3\\nNo matter which techniques they use in picking stocks, successful\\ninvesting professionals have two things in common: First, they are dis-\\nciplined and consistent, refusing to change their approach even whenit is unfashionable. Second, they think a great deal about what they do\\nand how to do it, but they pay very little attention to what the market isdoing.402 Commentary on Chapter 15\\n3There are also many newsletters dedicated to analyzing professional port-\\nfolios, but most of them are a waste of time and money for even the most\\nenterprising investor. A shining exception for people who can spare thecash is Outstanding Investor Digest (www.oid.com).\\n\\nIn the past we have made a basic distinction between two kinds\\nof investors to whom this book was addressed—the “defensive”\\nand the “enterprising.” The defensive (or passive) investor will\\nplace his chief emphasis on the avoidance of serious mistakes orlosses. His second aim will be freedom from effort, annoyance, andthe need for making frequent decisions. The determining trait ofthe enterprising (or active, or aggressive) investor is his willingnessto devote time and care to the selection of securities that are both\\nsound and more attractive than the average. Over many decades\\nan enterprising investor of this sort could expect a worthwhilereward for his extra skill and effort, in the form of a better average\\nreturn than that realized by the passive investor. We have some\\ndoubt whether a really substantial extra recompense is promised tothe active investor under today’s conditions. But next year or theyears after may well be different. We shall accordingly continue todevote attention to the possibilities for enterprising investment, asthey existed in former periods and may return.\\nIt has long been the prevalent view that the art of success-\\nful investment lies first in the choice of those industries that \\nare most likely to grow in the future and then in identifying the\\nmost promising companies in these industries. For example, smart\\ninvestors—or their smart advisers—would long ago have recog-\\nnized the great growth possibilities of the computer industry as a\\nwhole and of International Business Machines in particular. And\\nsimilarly for a number of other growth industries and growth com-panies. But this is not as easy as it always looks in retrospect. To\\nbring this point home at the outset let us add here a paragraph thatwe included first in the 1949 edition of this book.\\nSuch an investor may for example be a buyer of air-transport\\nstocks because he believes their future is even more brilliant than\\nthe trend the market already reflects. For this class of investor the\\nvalue of our book will lie more in its warnings against the pitfallslurking in this favorite investment approach than in any positive\\ntechnique that will help him along his path.*6 Introduction\\n* “Air-transport stocks, ” of course, generated as much excitement in the late\\n1940s and early 1950s as Internet stocks did a half century later. Amongthe hottest mutual funds of that era were Aeronautical Securities and the\\n\\nQuestion: how do I invest like you?\\n\""
      ]
     },
     "execution_count": 55,
     "metadata": {},
     "output_type": "execute_result"
    }
   ],
   "source": [
    "a[0]"
   ]
  },
  {
   "cell_type": "markdown",
   "metadata": {},
   "source": [
    "# Your Test Code here"
   ]
  },
  {
   "cell_type": "code",
   "execution_count": 56,
   "metadata": {},
   "outputs": [
    {
     "name": "stdout",
     "output_type": "stream",
     "text": [
      "Average response times:\n",
      "Naive RAG: 17.11 seconds\n",
      "RAG Fusion: 13.03 seconds\n",
      "HyDE: 10.52 seconds\n"
     ]
    }
   ],
   "source": [
    "import time\n",
    "import pandas as pd\n",
    "\n",
    "# Define all your questions\n",
    "questions = [\n",
    "    # Novice\n",
    "    \"As a beginner, should I invest in stocks or bonds? Why?\",\n",
    "    #\"What's the first step I should take to start investing?\",\n",
    "    #\"How much money do I need to start investing?\",\n",
    "    #\"What's the difference between saving and investing?\",\n",
    "    #\"Can you explain what a mutual fund is and why it might be good for beginners?\",\n",
    "    # Intermediate\n",
    "    \"How do I evaluate if a company's stock is overvalued or undervalued?\",\n",
    "    #\"What's your opinion on diversification versus concentrated investing?\",\n",
    "    #\"How important is a company's management when considering an investment?\",\n",
    "    #\"Can you explain the concept of 'margin of safety' and why it's important?\",\n",
    "    #\"What are some key financial ratios I should look at when analyzing a company?\",\n",
    "    # Advanced\n",
    "    #\"How do you approach intrinsic value calculation for a company with inconsistent earnings?\",\n",
    "    #\"What's your view on using derivatives for hedging in a long-term focused portfolio?\",\n",
    "    #\"How would you evaluate the competitive advantage of a technology company in a rapidly changing industry?\",\n",
    "    #\"Can you discuss the implications of current macroeconomic trends on value investing strategies?\",\n",
    "    #\"What's your approach to position sizing in a portfolio, especially for high-conviction investments?\",\n",
    "    # Breadth of Topic\n",
    "    #\"How do you compare investing in real estate versus stocks?\",\n",
    "    #\"What role should bonds play in an investment portfolio?\",\n",
    "    # Real-world Scenarios\n",
    "    #\"The stock market has just dropped 20% in a month. What should an investor do?\",\n",
    "    #\"You've just inherited $100,000. How would you advise investing it?\",\n",
    "    # Buffett-Specific Knowledge\n",
    "    #\"Can you explain your '20-slot punch card' approach to investing?\",\n",
    "    #\"How do you apply the concept of 'economic moat' when evaluating a company?\",\n",
    "    # Open-ended vs. Specific Questions\n",
    "    #\"What do you think are the most important qualities of a successful investor?\",\n",
    "    #\"What is the price-to-earnings (P/E) ratio, and how do you use it to evaluate a stock?\",\n",
    "    # Time-sensitive vs. Timeless Questions\n",
    "    #\"How might the current trend towards renewable energy affect traditional oil and gas investments in the next 5-10 years?\",\n",
    "    #\"Why is it important for an investor to have a long-term perspective, and how can one cultivate this mindset?\"\n",
    "]\n",
    "\n",
    "def run_method(method, questions):\n",
    "    results = []\n",
    "    for question in questions:\n",
    "        full_prompt = question\n",
    "        start_time = time.time()\n",
    "        prompt, response = method.invoke(full_prompt)  # Updated to use dictionary input\n",
    "        end_time = time.time()\n",
    "        response_time = end_time - start_time\n",
    "        results.append({\n",
    "            'prompt': prompt,\n",
    "            'response': response,\n",
    "            'response_time': response_time\n",
    "        })\n",
    "    return results\n",
    "\n",
    "# Run each method\n",
    "naive_rag_results = run_method(naive_rag_chain, questions)\n",
    "rag_fusion_results = run_method(rag_fusion_chain, questions)\n",
    "hyde_results = run_method(hyde_rag_chain, questions)\n",
    "\n",
    "# Prepare data for CSV\n",
    "data = []\n",
    "for q, nr, rf, h in zip(questions, naive_rag_results, rag_fusion_results, hyde_results):\n",
    "    data.append({\n",
    "        'Question': q,\n",
    "        'Naive RAG Prompt': nr['prompt'],\n",
    "        'Naive RAG Response': nr['response'],\n",
    "        'Naive RAG Response Time': nr['response_time'],\n",
    "        'RAG Fusion Prompt': rf['prompt'],\n",
    "        'RAG Fusion Response': rf['response'],\n",
    "        'RAG Fusion Response Time': rf['response_time'],\n",
    "        'HyDE Prompt': h['prompt'],\n",
    "        'HyDE Response': h['response'],\n",
    "        'HyDE Response Time': h['response_time']\n",
    "    })\n",
    "\n",
    "# Save to CSV\n",
    "df = pd.DataFrame(data)\n",
    "df.to_csv('detailed_method_responses.csv', index=False)\n",
    "\n",
    "# Print summary\n",
    "print(\"Average response times:\")\n",
    "print(f\"Naive RAG: {sum(r['response_time'] for r in naive_rag_results) / len(naive_rag_results):.2f} seconds\")\n",
    "print(f\"RAG Fusion: {sum(r['response_time'] for r in rag_fusion_results) / len(rag_fusion_results):.2f} seconds\")\n",
    "print(f\"HyDE: {sum(r['response_time'] for r in hyde_results) / len(hyde_results):.2f} seconds\")\n"
   ]
  }
 ],
 "metadata": {
  "kernelspec": {
   "display_name": "langgraph",
   "language": "python",
   "name": "python3"
  },
  "language_info": {
   "codemirror_mode": {
    "name": "ipython",
    "version": 3
   },
   "file_extension": ".py",
   "mimetype": "text/x-python",
   "name": "python",
   "nbconvert_exporter": "python",
   "pygments_lexer": "ipython3",
   "version": "3.12.5"
  }
 },
 "nbformat": 4,
 "nbformat_minor": 2
}
