{
 "cells": [
  {
   "cell_type": "markdown",
   "metadata": {},
   "source": [
    "### Config"
   ]
  },
  {
   "cell_type": "code",
   "execution_count": 1,
   "metadata": {},
   "outputs": [],
   "source": [
    "from dotenv import load_dotenv\n",
    "import os\n",
    "\n",
    "load_dotenv()\n",
    "\n",
    "os.environ['GROQ_API_KEY'] = os.getenv('GROQ_API_KEY')\n",
    "os.environ['LANGCHAIN_API_KEY'] = os.getenv('LANGCHAIN_API_KEY')\n",
    "os.environ[\"LANGCHAIN_TRACING_V2\"] = \"true\"\n",
    "os.environ['LANGCHAIN_PROJECT'] = \"BuffetBot\"\n",
    "os.environ['GOOGLE_API_KEY'] = os.getenv('GOOGLE_API_KEY')\n",
    "os.environ[\"OPENAI_API_KEY\"] = os.getenv(\"OPENAI_API_KEY\")\n",
    "FINANCIAL_MODELING_API_KEY = os.getenv(\"FINANCIAL_MODELING_PREP_API_KEY\")"
   ]
  },
  {
   "cell_type": "markdown",
   "metadata": {},
   "source": [
    "### Knowledge Base (Don't touch)"
   ]
  },
  {
   "cell_type": "code",
   "execution_count": 2,
   "metadata": {},
   "outputs": [
    {
     "ename": "NameError",
     "evalue": "name 'PyPDFLoader' is not defined",
     "output_type": "error",
     "traceback": [
      "\u001b[0;31m---------------------------------------------------------------------------\u001b[0m",
      "\u001b[0;31mNameError\u001b[0m                                 Traceback (most recent call last)",
      "Cell \u001b[0;32mIn[2], line 16\u001b[0m\n\u001b[1;32m     13\u001b[0m documents \u001b[38;5;241m=\u001b[39m []\n\u001b[1;32m     15\u001b[0m \u001b[38;5;28;01mfor\u001b[39;00m pdf_file \u001b[38;5;129;01min\u001b[39;00m pdf_files:\n\u001b[0;32m---> 16\u001b[0m     loader \u001b[38;5;241m=\u001b[39m \u001b[43mPyPDFLoader\u001b[49m(pdf_file)\n\u001b[1;32m     17\u001b[0m     documents\u001b[38;5;241m.\u001b[39mextend(loader\u001b[38;5;241m.\u001b[39mload())\n",
      "\u001b[0;31mNameError\u001b[0m: name 'PyPDFLoader' is not defined"
     ]
    }
   ],
   "source": [
    "import os\n",
    "import numpy as np\n",
    "from langchain.embeddings import OllamaEmbeddings \n",
    "from langchain.text_splitter import RecursiveCharacterTextSplitter\n",
    "from langchain_openai import OpenAIEmbeddings\n",
    "import faiss\n",
    "from langchain_community.docstore.in_memory import InMemoryDocstore\n",
    "from langchain_community.vectorstores import FAISS\n",
    "\n",
    "\n",
    "\n",
    "pdf_files = [\"charlie_munger.pdf\", \"intelligent_investor.pdf\", \"buffet_essays.pdf\"]\n",
    "\n",
    "documents = []\n",
    "\n",
    "for pdf_file in pdf_files:\n",
    "    loader = PyPDFLoader(pdf_file)\n",
    "    documents.extend(loader.load())\n"
   ]
  },
  {
   "cell_type": "code",
   "execution_count": 3,
   "metadata": {},
   "outputs": [
    {
     "ename": "NameError",
     "evalue": "name 'FAISS' is not defined",
     "output_type": "error",
     "traceback": [
      "\u001b[0;31m---------------------------------------------------------------------------\u001b[0m",
      "\u001b[0;31mNameError\u001b[0m                                 Traceback (most recent call last)",
      "Cell \u001b[0;32mIn[3], line 7\u001b[0m\n\u001b[1;32m      3\u001b[0m \u001b[38;5;28;01mfrom\u001b[39;00m \u001b[38;5;21;01mlangchain_openai\u001b[39;00m \u001b[38;5;28;01mimport\u001b[39;00m OpenAIEmbeddings\n\u001b[1;32m      5\u001b[0m index \u001b[38;5;241m=\u001b[39m faiss\u001b[38;5;241m.\u001b[39mIndexFlatL2(\u001b[38;5;28mlen\u001b[39m(OpenAIEmbeddings()\u001b[38;5;241m.\u001b[39membed_query(\u001b[38;5;124m\"\u001b[39m\u001b[38;5;124mhello world\u001b[39m\u001b[38;5;124m\"\u001b[39m)))\n\u001b[0;32m----> 7\u001b[0m vector_store \u001b[38;5;241m=\u001b[39m \u001b[43mFAISS\u001b[49m\u001b[38;5;241m.\u001b[39mload_local(\n\u001b[1;32m      8\u001b[0m     \u001b[38;5;124m\"\u001b[39m\u001b[38;5;124mknowledge_base\u001b[39m\u001b[38;5;124m\"\u001b[39m, embeddings, allow_dangerous_deserialization\u001b[38;5;241m=\u001b[39m\u001b[38;5;28;01mTrue\u001b[39;00m\n\u001b[1;32m      9\u001b[0m )\n\u001b[1;32m     12\u001b[0m uuids \u001b[38;5;241m=\u001b[39m [\u001b[38;5;28mstr\u001b[39m(uuid4()) \u001b[38;5;28;01mfor\u001b[39;00m _ \u001b[38;5;129;01min\u001b[39;00m \u001b[38;5;28mrange\u001b[39m(\u001b[38;5;28mlen\u001b[39m(documents))]\n\u001b[1;32m     13\u001b[0m vector_store\u001b[38;5;241m.\u001b[39madd_documents(documents\u001b[38;5;241m=\u001b[39mdocuments, \u001b[38;5;28mid\u001b[39m\u001b[38;5;241m=\u001b[39muuids)\n",
      "\u001b[0;31mNameError\u001b[0m: name 'FAISS' is not defined"
     ]
    }
   ],
   "source": [
    "from uuid import uuid4\n",
    "\n",
    "index = faiss.IndexFlatL2(len(OpenAIEmbeddings().embed_query(\"hello world\")))\n",
    "\n",
    "vector_store = FAISS.load_local(\n",
    "    \"knowledge_base\", embeddings, allow_dangerous_deserialization=True\n",
    ")\n",
    "\n",
    "\n",
    "uuids = [str(uuid4()) for _ in range(len(documents))]\n",
    "vector_store.add_documents(documents=documents, id=uuids)\n"
   ]
  },
  {
   "cell_type": "code",
   "execution_count": 59,
   "metadata": {},
   "outputs": [],
   "source": [
    "vector_store.save_local(\"knowledge_base\")"
   ]
  },
  {
   "cell_type": "markdown",
   "metadata": {},
   "source": [
    "### Playground"
   ]
  },
  {
   "cell_type": "code",
   "execution_count": 1,
   "metadata": {},
   "outputs": [],
   "source": [
    "import os\n",
    "import numpy as np\n",
    "from langchain.embeddings import OllamaEmbeddings \n",
    "from langchain.text_splitter import RecursiveCharacterTextSplitter\n",
    "from langchain_openai import OpenAIEmbeddings\n",
    "import faiss\n",
    "from langchain_community.docstore.in_memory import InMemoryDocstore\n",
    "from langchain_community.vectorstores import FAISS"
   ]
  },
  {
   "cell_type": "code",
   "execution_count": 2,
   "metadata": {},
   "outputs": [],
   "source": [
    "os.environ['OPENAI_API_KEY'] = os.getenv('OPENAI_API_KEY') ### PLACE YOUR OPENAI API KEY HERE\n",
    "embeddings = OpenAIEmbeddings()"
   ]
  },
  {
   "cell_type": "code",
   "execution_count": 3,
   "metadata": {},
   "outputs": [],
   "source": [
    "embeddings = OpenAIEmbeddings()\n",
    "\n",
    "vector_store = FAISS.load_local(\n",
    "    \"knowledge_base\", embeddings, allow_dangerous_deserialization=True\n",
    ")\n",
    "retriever = vector_store.as_retriever(search_type=\"mmr\", search_kwargs={\"k\": 5})\n"
   ]
  },
  {
   "cell_type": "markdown",
   "metadata": {},
   "source": [
    "### Naive RAG"
   ]
  },
  {
   "cell_type": "code",
   "execution_count": 33,
   "metadata": {},
   "outputs": [],
   "source": [
    "\n",
    "from langchain_openai import ChatOpenAI\n",
    "from langchain_core.output_parsers import StrOutputParser\n",
    "from langchain import hub\n",
    "from langchain_core.runnables import RunnablePassthrough\n",
    "\n",
    "# Prompt\n",
    "prompt = hub.pull(\"rlm/rag-prompt\")\n",
    "\n",
    "llm = ChatOpenAI(model_name=\"gpt-4o-mini\", temperature=0)\n",
    "def format_docs(docs):\n",
    "    return \"\\n\\n\".join(doc.page_content for doc in docs)\n",
    "\n",
    "# Chain\n",
    "naive_rag_chain = (\n",
    "    {\"context\": retriever | format_docs, \n",
    "     \"question\": RunnablePassthrough()} \n",
    "    | prompt\n",
    "    | {\"prompt\": lambda x: x.to_string(), \"response\": llm}\n",
    "    | (lambda x: (x[\"prompt\"], x[\"response\"].content))\n",
    ")"
   ]
  },
  {
   "cell_type": "markdown",
   "metadata": {},
   "source": [
    "#### RAG Fusion"
   ]
  },
  {
   "cell_type": "code",
   "execution_count": 5,
   "metadata": {},
   "outputs": [],
   "source": [
    "from langchain.prompts import ChatPromptTemplate\n",
    "\n",
    "#------------------------------\n",
    "# RAG-Fusion Question Generating Prompt\n",
    "template = \"\"\"You are a financial assistant that takes questions for Warren Buffet and generates multiple queries, so that Warren understands them properly \\n\n",
    "Generate multiple search queries related to: {question} \\n\n",
    "Output (4 queries):\"\"\"\n",
    "#------------------------------\n",
    "\n",
    "prompt_rag_fusion = ChatPromptTemplate.from_template(template)"
   ]
  },
  {
   "cell_type": "code",
   "execution_count": 6,
   "metadata": {},
   "outputs": [],
   "source": [
    "\n",
    "from langchain_core.output_parsers import StrOutputParser\n",
    "from langchain_openai import ChatOpenAI\n",
    "\n",
    "generate_queries = (\n",
    "    prompt_rag_fusion \n",
    "    | ChatOpenAI(temperature=0)\n",
    "    | StrOutputParser() \n",
    "    | (lambda x: x.split(\"\\n\"))\n",
    ")"
   ]
  },
  {
   "cell_type": "code",
   "execution_count": 7,
   "metadata": {},
   "outputs": [
    {
     "data": {
      "text/plain": [
       "['1. What investment strategies does Warren Buffet recommend for long-term success?',\n",
       " '2. How does Warren Buffet evaluate potential investment opportunities?',\n",
       " '3. What are the key principles that Warren Buffet follows when making investment decisions?',\n",
       " \"4. How can individual investors apply Warren Buffet's value investing approach to their own portfolios?\"]"
      ]
     },
     "execution_count": 7,
     "metadata": {},
     "output_type": "execute_result"
    }
   ],
   "source": [
    "generate_queries.invoke(\"how to invest like you\")"
   ]
  },
  {
   "cell_type": "code",
   "execution_count": 8,
   "metadata": {},
   "outputs": [],
   "source": [
    "from langchain.load import dumps, loads\n",
    "\n",
    "def reciprocal_rank_fusion(results: list[list], k=60, n=5):\n",
    "\n",
    "    fused_scores = {}\n",
    "\n",
    "    # Iterate through each list of ranked documents\n",
    "    for docs in results:\n",
    "        # Iterate through each document in the list, with its rank (position in the list)\n",
    "        for rank, doc in enumerate(docs):\n",
    "            # Convert the document to a string format to use as a key (assumes documents can be serialized to JSON)\n",
    "            doc_str = dumps(doc)\n",
    "            # If the document is not yet in the fused_scores dictionary, add it with an initial score of 0\n",
    "            if doc_str not in fused_scores:\n",
    "                fused_scores[doc_str] = 0\n",
    "            # Retrieve the current score of the document, if any\n",
    "            previous_score = fused_scores[doc_str]\n",
    "            # Update the score of the document using the RRF formula: 1 / (rank + k)\n",
    "            fused_scores[doc_str] += 1 / (rank + k)\n",
    "\n",
    "    # Sort the documents based on their fused scores in descending order to get the final reranked results\n",
    "    reranked_results = [\n",
    "        (loads(doc), score)\n",
    "        for doc, score in sorted(fused_scores.items(), key=lambda x: x[1], reverse=True)\n",
    "    ]\n",
    "\n",
    "    # Return the reranked results as a list of tuples, each containing the document and its fused score\n",
    "    return reranked_results[:5]\n",
    "\n",
    "retrieval_chain_rag_fusion = generate_queries | retriever.map() | reciprocal_rank_fusion"
   ]
  },
  {
   "cell_type": "code",
   "execution_count": 34,
   "metadata": {},
   "outputs": [],
   "source": [
    "from langchain_core.runnables import RunnablePassthrough\n",
    "\n",
    "#------------------------------\n",
    "# Prompt for Generating Answer from RAG-Fusion. Keep {context} and {question} to not break it.\n",
    "template = \"\"\"Answer the following question based on this context:\n",
    "\n",
    "{context}\n",
    "\n",
    "Question: {question}\n",
    "\"\"\"\n",
    "#------------------------------\n",
    "prompt = ChatPromptTemplate.from_template(template)\n",
    "\n",
    "rag_fusion_chain = (\n",
    "    {\"context\": retrieval_chain_rag_fusion, \n",
    "     \"question\": RunnablePassthrough()} \n",
    "    | prompt\n",
    "    | {\"prompt\": lambda x: x.to_string(), \"response\": llm}\n",
    "    | (lambda x: (x[\"prompt\"], x[\"response\"].content))\n",
    ")"
   ]
  },
  {
   "cell_type": "markdown",
   "metadata": {},
   "source": [
    "#### HyDE"
   ]
  },
  {
   "cell_type": "code",
   "execution_count": 10,
   "metadata": {},
   "outputs": [
    {
     "data": {
      "text/plain": [
       "'Investing like Warren Buffet requires a disciplined approach and a long-term perspective. One of my key principles is to invest in companies with strong competitive advantages and a proven track record of success. I believe in focusing on the fundamentals of a business, rather than trying to time the market or chase short-term gains.\\n\\nAnother important aspect of investing like me is to do thorough research and analysis before making any investment decisions. I always look for companies with a solid management team, a sustainable business model, and a history of generating consistent profits.\\n\\nI also believe in the power of patience and staying true to your investment thesis, even when the market is volatile or uncertain. By taking a long-term view and staying focused on the fundamentals, I have been able to achieve significant success in the world of investing.\\n\\nIn conclusion, to invest like Warren Buffet, it is important to focus on quality companies, do your homework, and have the patience to ride out market fluctuations. By following these principles, you can increase your chances of achieving long-term success in the stock market.'"
      ]
     },
     "execution_count": 10,
     "metadata": {},
     "output_type": "execute_result"
    }
   ],
   "source": [
    "from langchain.prompts import ChatPromptTemplate\n",
    "\n",
    "#------------------------------\n",
    "# Prompt for generating HyDE paragraph\n",
    "template = \"\"\"You are Warren Buffet. Answer this question with a passage using your principles: {question}\n",
    "Passage:\"\"\"\n",
    "#------------------------------\n",
    "\n",
    "\n",
    "prompt_hyde = ChatPromptTemplate.from_template(template)\n",
    "\n",
    "from langchain_core.output_parsers import StrOutputParser\n",
    "from langchain_openai import ChatOpenAI\n",
    "\n",
    "generate_docs_for_retrieval = (\n",
    "    prompt_hyde | ChatOpenAI(temperature=0) | StrOutputParser() \n",
    ")\n",
    "\n",
    "# Run\n",
    "question = \"how to invest like you?\"\n",
    "generate_docs_for_retrieval.invoke({\"question\":question})"
   ]
  },
  {
   "cell_type": "code",
   "execution_count": 22,
   "metadata": {},
   "outputs": [],
   "source": [
    "# Retrieve\n",
    "retrieval_chain = generate_docs_for_retrieval | retriever \n",
    "retireved_docs = retrieval_chain.invoke({\"question\":question})\n",
    "retireved_docs\n",
    "\n",
    "#------------------------------\n",
    "# Prompt for Generating Answer from HyDE. Keep {context} and {question} to not break it.\n",
    "template = \"\"\"Answer the following question based on this context:\n",
    "\n",
    "{context}\n",
    "\n",
    "Question: {question}\n",
    "\"\"\"\n",
    "#------------------------------\n",
    "\n",
    "prompt = ChatPromptTemplate.from_template(template)\n",
    "\n",
    "hyde_rag_chain = (\n",
    "    {\"context\": retrieval_chain, \n",
    "     \"question\": RunnablePassthrough()} \n",
    "    | prompt\n",
    "    | {\"prompt\": lambda x: x.to_string(), \"response\": llm}\n",
    "    | (lambda x: (x[\"prompt\"], x[\"response\"].content))\n",
    ")"
   ]
  },
  {
   "cell_type": "markdown",
   "metadata": {},
   "source": [
    "### Testing"
   ]
  },
  {
   "cell_type": "code",
   "execution_count": 84,
   "metadata": {},
   "outputs": [],
   "source": [
    "question = \"how do I invest like you?\""
   ]
  },
  {
   "cell_type": "code",
   "execution_count": 86,
   "metadata": {},
   "outputs": [
    {
     "data": {
      "text/plain": [
       "'To invest like an intelligent investor, focus on controlling what you can, such as minimizing costs, managing risk, and maintaining realistic expectations. Adopt a long-term strategy by consistently investing in a total stock-market index fund and avoid reacting to market fluctuations. Lastly, prioritize self-discipline and continuous learning to improve your investment decisions over time.'"
      ]
     },
     "execution_count": 86,
     "metadata": {},
     "output_type": "execute_result"
    }
   ],
   "source": [
    "naive_rag_chain.invoke(question)"
   ]
  },
  {
   "cell_type": "code",
   "execution_count": 87,
   "metadata": {},
   "outputs": [
    {
     "data": {
      "text/plain": [
       "'To invest like Warren Buffett, consider the following key principles based on his investment philosophy:\\n\\n1. **Understand the Business**: Focus on companies that you can easily understand. Buffett emphasizes investing in businesses with strong economic characteristics and a clear business model.\\n\\n2. **Evaluate Management**: Assess the quality of the management team. Look for leaders who have a track record of making wise decisions, allocating capital effectively, and prioritizing shareholder interests over personal gain.\\n\\n3. **Look for \"Franchise\" Companies**: Invest in companies with strong consumer brands, robust financial health, and a competitive edge in their market. These are often companies that can sustain growth over the long term.\\n\\n4. **Margin of Safety**: Always seek a margin of safety in your investments. This means buying stocks at a price that is significantly below their intrinsic value to minimize risk.\\n\\n5. **Long-Term Perspective**: Adopt a long-term investment horizon. Buffett believes in holding onto investments for many years, allowing the company\\'s value to grow over time.\\n\\n6. **Focus Investing**: Instead of diversifying broadly, consider a focus investing strategy where you concentrate on a few high-quality companies. This approach requires thorough research and confidence in your selections.\\n\\n7. **Avoid Market Timing**: Buffett advises against trying to time the market. Instead, focus on the underlying value of the businesses you invest in.\\n\\n8. **Invest in Index Funds for Beginners**: If you\\'re new to investing or have a low tolerance for risk, Buffett recommends starting with index funds, which can outperform many active managers over time.\\n\\n9. **Continuous Learning**: Stay informed and continuously educate yourself about investing and the companies you are interested in. Buffett is known for his extensive reading and research.\\n\\nBy following these principles, you can align your investment strategy more closely with Warren Buffett\\'s approach.'"
      ]
     },
     "execution_count": 87,
     "metadata": {},
     "output_type": "execute_result"
    }
   ],
   "source": [
    "rag_fusion_chain.invoke(question)"
   ]
  },
  {
   "cell_type": "code",
   "execution_count": 30,
   "metadata": {},
   "outputs": [],
   "source": [
    "a = hyde_rag_chain.invoke(question)"
   ]
  },
  {
   "cell_type": "code",
   "execution_count": 31,
   "metadata": {},
   "outputs": [
    {
     "data": {
      "text/plain": [
       "'To invest like Warren Buffett and Charlie Munger, consider the following key principles derived from their investment philosophies:\\n\\n1. **Focus Investing**: Concentrate your investments in a few high-quality stocks that you believe will yield above-average returns over the long term. This means doing thorough research to identify companies with strong fundamentals.\\n\\n2. **Long-Term Perspective**: Have the fortitude to hold onto your investments through market fluctuations. Avoid the temptation to sell during short-term market volatility.\\n\\n3. **Circle of Competence**: Invest in areas where you have knowledge and understanding. Recognize the boundaries of your expertise and focus on industries or companies you can evaluate effectively.\\n\\n4. **Margin of Safety**: Look for investments that offer a margin of safety, meaning they are undervalued relative to their intrinsic worth. This provides a buffer against potential losses.\\n\\n5. **Quality Companies**: Seek out \"franchise\" companies with strong brands, solid financial health, and competitive advantages in their markets. These companies should have a history of steady and sustainable growth.\\n\\n6. **Management Quality**: Invest in companies with competent and trustworthy management teams that set realistic goals and allocate capital wisely.\\n\\n7. **Continuous Learning**: Embrace the learning process and continually seek to improve your investment knowledge and skills. Stay informed about market trends and company performance.\\n\\n8. **Discipline and Patience**: Maintain discipline in your investment strategy and be patient. Avoid following the herd mentality and trust your own judgment.\\n\\nBy adhering to these principles, you can develop a disciplined and focused investment strategy similar to that of Buffett and Munger.'"
      ]
     },
     "execution_count": 31,
     "metadata": {},
     "output_type": "execute_result"
    }
   ],
   "source": [
    "a[1]"
   ]
  },
  {
   "cell_type": "markdown",
   "metadata": {},
   "source": [
    "# Your Test Code here"
   ]
  },
  {
   "cell_type": "code",
   "execution_count": 35,
   "metadata": {},
   "outputs": [
    {
     "name": "stdout",
     "output_type": "stream",
     "text": [
      "Average response times:\n",
      "Naive RAG: 1.44 seconds\n",
      "RAG Fusion: 4.84 seconds\n",
      "HyDE: 6.68 seconds\n"
     ]
    }
   ],
   "source": [
    "import time\n",
    "import pandas as pd\n",
    "\n",
    "# Define all your questions\n",
    "questions = [\n",
    "    # Novice\n",
    "    \"As a beginner, should I invest in stocks or bonds? Why?\",\n",
    "    #\"What's the first step I should take to start investing?\",\n",
    "    #\"How much money do I need to start investing?\",\n",
    "    #\"What's the difference between saving and investing?\",\n",
    "    #\"Can you explain what a mutual fund is and why it might be good for beginners?\",\n",
    "    # Intermediate\n",
    "    \"How do I evaluate if a company's stock is overvalued or undervalued?\",\n",
    "    #\"What's your opinion on diversification versus concentrated investing?\",\n",
    "    #\"How important is a company's management when considering an investment?\",\n",
    "    #\"Can you explain the concept of 'margin of safety' and why it's important?\",\n",
    "    #\"What are some key financial ratios I should look at when analyzing a company?\",\n",
    "    # Advanced\n",
    "    #\"How do you approach intrinsic value calculation for a company with inconsistent earnings?\",\n",
    "    #\"What's your view on using derivatives for hedging in a long-term focused portfolio?\",\n",
    "    #\"How would you evaluate the competitive advantage of a technology company in a rapidly changing industry?\",\n",
    "    #\"Can you discuss the implications of current macroeconomic trends on value investing strategies?\",\n",
    "    \"What's your approach to position sizing in a portfolio, especially for high-conviction investments?\",\n",
    "    # Breadth of Topic\n",
    "    #\"How do you compare investing in real estate versus stocks?\",\n",
    "    #\"What role should bonds play in an investment portfolio?\",\n",
    "    # Real-world Scenarios\n",
    "    \"The stock market has just dropped 20% in a month. What should an investor do?\",\n",
    "    #\"You've just inherited $100,000. How would you advise investing it?\",\n",
    "    # Buffett-Specific Knowledge\n",
    "    \"Can you explain your '20-slot punch card' approach to investing?\",\n",
    "    #\"How do you apply the concept of 'economic moat' when evaluating a company?\",\n",
    "    # Open-ended vs. Specific Questions\n",
    "    \"What do you think are the most important qualities of a successful investor?\",\n",
    "    #\"What is the price-to-earnings (P/E) ratio, and how do you use it to evaluate a stock?\",\n",
    "    # Time-sensitive vs. Timeless Questions\n",
    "    \"How might the current trend towards renewable energy affect traditional oil and gas investments in the next 5-10 years?\",\n",
    "    \"Why is it important for an investor to have a long-term perspective, and how can one cultivate this mindset?\"\n",
    "]\n",
    "\n",
    "def run_method(method, questions):\n",
    "    results = []\n",
    "    for question in questions:\n",
    "        full_prompt = question\n",
    "        start_time = time.time()\n",
    "        prompt, response = method.invoke(full_prompt)  # Updated to use dictionary input\n",
    "        end_time = time.time()\n",
    "        response_time = end_time - start_time\n",
    "        results.append({\n",
    "            'prompt': prompt,\n",
    "            'response': response,\n",
    "            'response_time': response_time\n",
    "        })\n",
    "    return results\n",
    "\n",
    "# Run each method\n",
    "naive_rag_results = run_method(naive_rag_chain, questions)\n",
    "rag_fusion_results = run_method(rag_fusion_chain, questions)\n",
    "hyde_results = run_method(hyde_rag_chain, questions)\n",
    "\n",
    "# Prepare data for CSV\n",
    "data = []\n",
    "for q, nr, rf, h in zip(questions, naive_rag_results, rag_fusion_results, hyde_results):\n",
    "    data.append({\n",
    "        'Question': q,\n",
    "        'Naive RAG Prompt': nr['prompt'],\n",
    "        'Naive RAG Response': nr['response'],\n",
    "        'Naive RAG Response Time': nr['response_time'],\n",
    "        'RAG Fusion Prompt': rf['prompt'],\n",
    "        'RAG Fusion Response': rf['response'],\n",
    "        'RAG Fusion Response Time': rf['response_time'],\n",
    "        'HyDE Prompt': h['prompt'],\n",
    "        'HyDE Response': h['response'],\n",
    "        'HyDE Response Time': h['response_time']\n",
    "    })\n",
    "\n",
    "# Save to CSV\n",
    "df = pd.DataFrame(data)\n",
    "df.to_csv('detailed_method_responses.csv', index=False)\n",
    "\n",
    "# Print summary\n",
    "print(\"Average response times:\")\n",
    "print(f\"Naive RAG: {sum(r['response_time'] for r in naive_rag_results) / len(naive_rag_results):.2f} seconds\")\n",
    "print(f\"RAG Fusion: {sum(r['response_time'] for r in rag_fusion_results) / len(rag_fusion_results):.2f} seconds\")\n",
    "print(f\"HyDE: {sum(r['response_time'] for r in hyde_results) / len(hyde_results):.2f} seconds\")\n"
   ]
  }
 ],
 "metadata": {
  "kernelspec": {
   "display_name": "langgraph",
   "language": "python",
   "name": "python3"
  },
  "language_info": {
   "codemirror_mode": {
    "name": "ipython",
    "version": 3
   },
   "file_extension": ".py",
   "mimetype": "text/x-python",
   "name": "python",
   "nbconvert_exporter": "python",
   "pygments_lexer": "ipython3",
   "version": "3.12.5"
  }
 },
 "nbformat": 4,
 "nbformat_minor": 2
}
