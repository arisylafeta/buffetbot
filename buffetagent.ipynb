{
 "cells": [
  {
   "cell_type": "code",
   "execution_count": 1,
   "metadata": {},
   "outputs": [],
   "source": [
    "from dotenv import load_dotenv\n",
    "import os\n",
    "\n",
    "load_dotenv()\n",
    "\n",
    "os.environ['GROQ_API_KEY'] = os.getenv('GROQ_API_KEY')\n",
    "os.environ['LANGCHAIN_API_KEY'] = os.getenv('LANGCHAIN_API_KEY')\n",
    "os.environ[\"LANGCHAIN_TRACING_V2\"] = \"true\"\n",
    "os.environ['LANGCHAIN_PROJECT'] = \"BuffetBot\"\n",
    "os.environ['GOOGLE_API_KEY'] = os.getenv('GOOGLE_API_KEY')\n",
    "os.environ[\"OPENAI_API_KEY\"] = os.getenv(\"OPENAI_API_KEY\")"
   ]
  },
  {
   "cell_type": "code",
   "execution_count": 4,
   "metadata": {},
   "outputs": [
    {
     "ename": "ModuleNotFoundError",
     "evalue": "No module named 'langgraph.state'",
     "output_type": "error",
     "traceback": [
      "\u001b[0;31m---------------------------------------------------------------------------\u001b[0m",
      "\u001b[0;31mModuleNotFoundError\u001b[0m                       Traceback (most recent call last)",
      "Cell \u001b[0;32mIn[4], line 2\u001b[0m\n\u001b[1;32m      1\u001b[0m \u001b[38;5;66;03m#State\u001b[39;00m\n\u001b[0;32m----> 2\u001b[0m \u001b[38;5;28;01mfrom\u001b[39;00m \u001b[38;5;21;01mlanggraph\u001b[39;00m\u001b[38;5;21;01m.\u001b[39;00m\u001b[38;5;21;01mstate\u001b[39;00m \u001b[38;5;28;01mimport\u001b[39;00m State\n",
      "\u001b[0;31mModuleNotFoundError\u001b[0m: No module named 'langgraph.state'"
     ]
    }
   ],
   "source": [
    "#State\n",
    "from typing import Annotated\n",
    "from langgraph.state import State"
   ]
  },
  {
   "cell_type": "code",
   "execution_count": 28,
   "metadata": {},
   "outputs": [],
   "source": [
    "import ssl\n",
    "from urllib.request import urlopen\n",
    "import certifi\n",
    "import json\n",
    "from langchain_core.tools import tool\n",
    "from typing import List, Optional, TypedDict, Annotated\n",
    "\n",
    "class FinancialRatios(TypedDict):\n",
    "    symbol: str\n",
    "    date: str\n",
    "    operatingCashFlowPerShare: Optional[float]\n",
    "    interestCoverageRatio: Optional[float]\n",
    "    workingCapital: Optional[float]\n",
    "    daysSalesOutstanding: Optional[float]\n",
    "    bookValuePerShare: Optional[float]\n",
    "    dividendYield: Optional[float]\n",
    "    currentRatio: Optional[float]\n",
    "    payablesTurnover: Optional[float]\n",
    "\n",
    "class FinancialKeyMetrics(TypedDict):\n",
    "    symbol: str\n",
    "    date: str\n",
    "    grossProfitMargin: Optional[float]\n",
    "    debtEquityRatio: Optional[float]\n",
    "    debtRatio: Optional[float]\n",
    "    operatingProfitMargin: Optional[float]\n",
    "    netProfitMargin: Optional[float]\n",
    "    returnOnAssets: Optional[float]\n",
    "    returnOnEquity: Optional[float]\n",
    "    returnOnCapitalEmployed: Optional[float]\n",
    "    totalDebtToCapitalization: Optional[float]\n",
    "    cashFlowCoverageRatios: Optional[float]\n",
    "    quickRatio: Optional[float]\n",
    "    cashRatio: Optional[float]\n",
    "    assetTurnover: Optional[float]\n",
    "    inventoryTurnover: Optional[float]\n",
    "    receivablesTurnover: Optional[float]\n",
    "    cashConversionCycle: Optional[float]\n",
    "    priceEarningsRatio: Optional[float]\n",
    "    daysOfPayablesOutstanding: Optional[float]\n",
    "\n",
    "# Function 1\n",
    "@tool\n",
    "def get_financial_key_metrics(ticker: str, api_key: str, observations: int = 1) -> List[FinancialRatios]:\n",
    "    \"\"\"\n",
    "    Retrieve and filter key financial metrics for a specified company.\n",
    "\n",
    "    This function fetches financial data from the Financial Modeling Prep API\n",
    "    and filters it to include specific key metrics. It's designed to provide\n",
    "    a focused set of financial indicators for analysis.\n",
    "\n",
    "    Parameters:\n",
    "    ticker (str): The stock symbol of the company (e.g., \"AAPL\" for Apple Inc.).\n",
    "    api_key (str): Your Financial Modeling Prep API key for authentication.\n",
    "    observations (int, optional): The number of most recent periods to return. \n",
    "                                  Defaults to 1.\n",
    "\n",
    "    Returns:\n",
    "    List[FinancialRatios]: A list of FinancialRatio objects, each containing key metrics\n",
    "                          for the specified number of observations.\n",
    "    \"\"\"\n",
    "    url = f\"https://financialmodelingprep.com/api/v3/key-metrics/{ticker}?apikey={api_key}\"\n",
    "    \n",
    "    context = ssl.create_default_context(cafile=certifi.where())\n",
    "    \n",
    "    with urlopen(url, context=context) as response:\n",
    "        data = response.read().decode(\"utf-8\")\n",
    "    \n",
    "    json_data = json.loads(data)\n",
    "    \n",
    "    filtered_data = []\n",
    "    for item in json_data:\n",
    "        filtered_item = FinancialRatios(\n",
    "            symbol=item['symbol'],\n",
    "            date=item['date'],\n",
    "            operatingCashFlowPerShare=item.get('operatingCashFlowPerShare'),\n",
    "            interestCoverageRatio=item.get('interestCoverage'),\n",
    "            workingCapital=item.get('workingCapital'),\n",
    "            daysSalesOutstanding=item.get('daysSalesOutstanding'),\n",
    "            bookValuePerShare=item.get('bookValuePerShare'),\n",
    "            dividendYield=item.get('dividendYield'),\n",
    "            currentRatio=item.get('currentRatio'),\n",
    "            payablesTurnover=item.get('payablesTurnover')\n",
    "        )\n",
    "        filtered_data.append(filtered_item)\n",
    "    \n",
    "    return filtered_data[:observations]\n",
    "\n",
    "# Function 2\n",
    "@tool\n",
    "def get_financial_ratios(ticker: str, api_key: str, observations: int = 1) -> List[FinancialKeyMetrics]:\n",
    "    \"\"\"\n",
    "    Retrieve and filter financial ratios for a specified company.\n",
    "\n",
    "    This function fetches financial ratio data from the Financial Modeling Prep API\n",
    "    and filters it to include specific key ratios. It's designed to provide\n",
    "    a focused set of financial indicators for analysis.\n",
    "\n",
    "    Parameters:\n",
    "    ticker (str): The stock symbol of the company (e.g., \"AAPL\" for Apple Inc.).\n",
    "    api_key (str): Your Financial Modeling Prep API key for authentication.\n",
    "    observations (int, optional): The number of most recent periods to return. \n",
    "                                  Defaults to 1.\n",
    "\n",
    "    Returns:\n",
    "    List[FinancialKeyMetrics]: A list of FinancialKeyMetric objects, each containing key ratios\n",
    "                              for the specified number of observations.\n",
    "    \"\"\"\n",
    "    url = f\"https://financialmodelingprep.com/api/v3/ratios/{ticker}?&apikey={api_key}\"\n",
    "    \n",
    "    context = ssl.create_default_context(cafile=certifi.where())\n",
    "    \n",
    "    with urlopen(url, context=context) as response:\n",
    "        data = response.read().decode(\"utf-8\")\n",
    "    \n",
    "    json_data = json.loads(data)\n",
    "    \n",
    "    filtered_data = []\n",
    "    for item in json_data:\n",
    "        filtered_item = FinancialKeyMetrics(\n",
    "            symbol=item['symbol'],\n",
    "            date=item['date'],\n",
    "            grossProfitMargin=item.get('grossProfitMargin'),\n",
    "            debtEquityRatio=item.get('debtEquityRatio'),\n",
    "            debtRatio=item.get('debtRatio'),\n",
    "            operatingProfitMargin=item.get('operatingProfitMargin'),\n",
    "            netProfitMargin=item.get('netProfitMargin'),\n",
    "            returnOnAssets=item.get('returnOnAssets'),\n",
    "            returnOnEquity=item.get('returnOnEquity'),\n",
    "            returnOnCapitalEmployed=item.get('returnOnCapitalEmployed'),\n",
    "            totalDebtToCapitalization=item.get('totalDebtToCapitalization'),\n",
    "            cashFlowCoverageRatios=item.get('cashFlowCoverageRatios'),\n",
    "            quickRatio=item.get('quickRatio'),\n",
    "            cashRatio=item.get('cashRatio'),\n",
    "            assetTurnover=item.get('assetTurnover'),\n",
    "            inventoryTurnover=item.get('inventoryTurnover'),\n",
    "            receivablesTurnover=item.get('receivablesTurnover'),\n",
    "            cashConversionCycle=item.get('cashConversionCycle'),\n",
    "            priceEarningsRatio=item.get('priceEarningsRatio'),\n",
    "            daysOfPayablesOutstanding=item.get('daysOfPayablesOutstanding')\n",
    "        )\n",
    "        filtered_data.append(filtered_item)\n",
    "    \n",
    "    return filtered_data[:observations]\n",
    "\n",
    "# Function 3\n",
    "# Will add more functions as needed\n",
    "\n",
    "\n",
    "#API Caller\n"
   ]
  },
  {
   "cell_type": "code",
   "execution_count": null,
   "metadata": {},
   "outputs": [],
   "source": [
    "# Agent Decider\n"
   ]
  },
  {
   "cell_type": "code",
   "execution_count": null,
   "metadata": {},
   "outputs": [],
   "source": [
    "# Knowledge Base Retriever\n"
   ]
  },
  {
   "cell_type": "code",
   "execution_count": null,
   "metadata": {},
   "outputs": [],
   "source": [
    "# Buffet Agent"
   ]
  },
  {
   "cell_type": "code",
   "execution_count": null,
   "metadata": {},
   "outputs": [],
   "source": [
    "# Metric Extractor"
   ]
  },
  {
   "cell_type": "code",
   "execution_count": null,
   "metadata": {},
   "outputs": [],
   "source": [
    "# Summarizer "
   ]
  },
  {
   "cell_type": "code",
   "execution_count": null,
   "metadata": {},
   "outputs": [],
   "source": [
    "# Graph"
   ]
  }
 ],
 "metadata": {
  "kernelspec": {
   "display_name": "langgraph",
   "language": "python",
   "name": "python3"
  },
  "language_info": {
   "codemirror_mode": {
    "name": "ipython",
    "version": 3
   },
   "file_extension": ".py",
   "mimetype": "text/x-python",
   "name": "python",
   "nbconvert_exporter": "python",
   "pygments_lexer": "ipython3",
   "version": "3.12.4"
  }
 },
 "nbformat": 4,
 "nbformat_minor": 2
}
